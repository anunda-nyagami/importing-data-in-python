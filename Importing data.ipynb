{
 "cells": [
  {
   "cell_type": "markdown",
   "id": "12ed0ce9-955a-42d8-8cf0-c8c09c91b4f6",
   "metadata": {},
   "source": [
    "# IMPORTING DATA IN PYTHON\n",
    "<hr>\n",
    "Importing data in Python is a fundamental step in any data-related task, be it for analysis, processing, or machine learning. It involves bringing external data into your Python environment so that you can work with it using Python's extensive set of data manipulation, analysis, and visualization tools. Here are the primary methods and techniques used for importing data in Python:"
   ]
  },
  {
   "cell_type": "code",
   "execution_count": 158,
   "id": "57915598-8820-4c2d-bcea-ea9af28c6614",
   "metadata": {
    "tags": []
   },
   "outputs": [],
   "source": [
    "# Importing the pandas library\n",
    "import pandas as pd\n",
    "\n",
    "# Importing the NumPy library \n",
    "import numpy as np"
   ]
  },
  {
   "cell_type": "markdown",
   "id": "07cea742-a734-4eac-88a3-c771e7214576",
   "metadata": {},
   "source": [
    "## 1. Flatfiles/textfiles\n",
    "### 1.1. Using open\n",
    "Opening a file named `tweets3.txt` for reading (`r` mode)\n",
    "- The `with` statement opens the file in context and ensures that the file is properly closed after reading\n",
    "- The `.read()` method reads the entire contents of the file and stores it in the variable `tweets`"
   ]
  },
  {
   "cell_type": "code",
   "execution_count": 194,
   "id": "e7c344fc-1426-4291-84fb-e2294f660893",
   "metadata": {
    "tags": []
   },
   "outputs": [],
   "source": [
    "with open('datasets/importing-data/tweets3.txt', 'r') as con:\n",
    "    tweets = con.read()"
   ]
  },
  {
   "cell_type": "code",
   "execution_count": 195,
   "id": "aaa7e8a2-0ff4-457c-b213-d21b6f4aa7cb",
   "metadata": {
    "tags": []
   },
   "outputs": [
    {
     "data": {
      "text/plain": [
       "'{\"in_reply_to_user_id\": null, \"created_at\": \"Tue Mar 29 23:40:17 +0000 2016\", \"filter_level\": \"low\", \"truncated\": false, \"possibly_sensitive\": false, \"timestamp_ms\": \"1459294817758\", \"user\": {\"profile_banner_url\": \"https://pbs.twimg.com/profile_banners/2290155049/1456586630\", \"created_at\": \"Mon Jan 13 20:05:32 +0000 2014\", \"utc_offset\": 3600, \"geo_enabled\": false, \"notifications\": null, \"lang\": \"en\", \"profile_background_image_url_https\": \"https://abs.twimg.com/images/themes/theme1/bg.png\", \"profile_image_url_https\": \"https://pbs.twimg.com/profile_images/700888033558720512/KexOIMN4_normal.jpg\", \"time_zone\": \"London\", \"listed_count\": 71, \"screen_name\": \"greyman25\", \"url\": \"http://www.get-saved-today.webnode.com\", \"profile_background_tile\": false, \"followers_count\": 578, \"profile_link_color\": \"1B95E0\", \"default_profile\": false, \"name\": \"Born in Britain\", \"follow_request_sent\": null, \"following\": null, \"profile_use_background_image\": false, \"profile_background_color\": \"000000\", \"id\": 22901'"
      ]
     },
     "execution_count": 195,
     "metadata": {},
     "output_type": "execute_result"
    }
   ],
   "source": [
    "# Extract the first 1000 characters from the 'tweets' variable\n",
    "tweets[:1000]"
   ]
  },
  {
   "cell_type": "markdown",
   "id": "25c62ab4-a1d5-4b0c-8f81-0595d93a1dac",
   "metadata": {},
   "source": [
    "### 1.2. Using loadtxt\n",
    "Loading data from a CSV file named `titanic_sub.csv`\n",
    "- `dtype=str` specifies that the data should be read as strings\n",
    "- `delimiter=`, specifies that the comma `,` is used as the delimiter between values\n",
    "- `skiprows=1` skips the first row (usually the header) when reading the data\n",
    "- `usecols=[2, 3]` specifies that only the 3rd and 4th columns (0-based index) should be read"
   ]
  },
  {
   "cell_type": "code",
   "execution_count": 161,
   "id": "3325c7b4-e230-4ee5-bd4c-ffb45d463579",
   "metadata": {
    "tags": []
   },
   "outputs": [
    {
     "data": {
      "text/plain": [
       "array([['3', 'male', '22.0'],\n",
       "       ['1', 'female', '38.0'],\n",
       "       ['3', 'female', '26.0'],\n",
       "       ...,\n",
       "       ['3', 'female', ''],\n",
       "       ['1', 'male', '26.0'],\n",
       "       ['3', 'male', '32.0']], dtype='<U6')"
      ]
     },
     "execution_count": 161,
     "metadata": {},
     "output_type": "execute_result"
    }
   ],
   "source": [
    "titanic = np.loadtxt('datasets/importing-data/titanic_sub.csv', dtype=str, delimiter=',', skiprows=1, usecols=[2, 3, 4])\n",
    "titanic"
   ]
  },
  {
   "cell_type": "markdown",
   "id": "2567ef16-6f44-4f6a-a4dd-8323c67e476d",
   "metadata": {},
   "source": [
    "### 1.3. Using genfromtxt\n",
    "Loading data from a CSV file named `titanic_sub.csv` using `genfromtxt`\n",
    "- `delimiter= ','` specifies that the comma `,` is used as the delimiter between values\n",
    "- `dtype = None` lets NumPy infer the data types of the columns automatically\n",
    "- `skip_header = 1` skips the first row (header) when reading the data\n",
    "- `encoding = utf-8` specifies the character encoding of the file\n",
    "- `max_rows = 10` limits the number of rows to be read"
   ]
  },
  {
   "cell_type": "code",
   "execution_count": 162,
   "id": "5f617b7d-a0d3-433f-8478-43866c852ece",
   "metadata": {
    "tags": []
   },
   "outputs": [
    {
     "data": {
      "text/plain": [
       "array([( 1, 0, 3, 'male', 22., 1, 0, 'A/5 21171',  7.25  , '', 'S'),\n",
       "       ( 2, 1, 1, 'female', 38., 1, 0, 'PC 17599', 71.2833, 'C85', 'C'),\n",
       "       ( 3, 1, 3, 'female', 26., 0, 0, 'STON/O2. 3101282',  7.925 , '', 'S'),\n",
       "       ( 4, 1, 1, 'female', 35., 1, 0, '113803', 53.1   , 'C123', 'S'),\n",
       "       ( 5, 0, 3, 'male', 35., 0, 0, '373450',  8.05  , '', 'S'),\n",
       "       ( 6, 0, 3, 'male', nan, 0, 0, '330877',  8.4583, '', 'Q'),\n",
       "       ( 7, 0, 1, 'male', 54., 0, 0, '17463', 51.8625, 'E46', 'S'),\n",
       "       ( 8, 0, 3, 'male',  2., 3, 1, '349909', 21.075 , '', 'S'),\n",
       "       ( 9, 1, 3, 'female', 27., 0, 2, '347742', 11.1333, '', 'S'),\n",
       "       (10, 1, 2, 'female', 14., 1, 0, '237736', 30.0708, '', 'C')],\n",
       "      dtype=[('f0', '<i4'), ('f1', '<i4'), ('f2', '<i4'), ('f3', '<U6'), ('f4', '<f8'), ('f5', '<i4'), ('f6', '<i4'), ('f7', '<U16'), ('f8', '<f8'), ('f9', '<U4'), ('f10', '<U1')])"
      ]
     },
     "execution_count": 162,
     "metadata": {},
     "output_type": "execute_result"
    }
   ],
   "source": [
    "titanic2 = np.genfromtxt('datasets/importing-data/titanic_sub.csv', delimiter=',', dtype=None, skip_header=1, encoding='utf-8', max_rows=10)\n",
    "titanic2"
   ]
  },
  {
   "cell_type": "markdown",
   "id": "52aaf371-5254-436a-aea6-21687b969fba",
   "metadata": {},
   "source": [
    "## 2. JSON files\n",
    "### 2.1. Using open\n",
    "Opening a JSON file named `batman.json` for reading"
   ]
  },
  {
   "cell_type": "code",
   "execution_count": 163,
   "id": "744f545b-4b0b-4142-b33a-122027690c5f",
   "metadata": {
    "tags": []
   },
   "outputs": [],
   "source": [
    "import json"
   ]
  },
  {
   "cell_type": "code",
   "execution_count": 164,
   "id": "5200f767-c4e9-438d-a933-cf159d65c8a2",
   "metadata": {},
   "outputs": [
    {
     "data": {
      "text/plain": [
       "{'Title': 'Batman',\n",
       " 'Year': '1989',\n",
       " 'Rated': 'PG-13',\n",
       " 'Released': '23 Jun 1989',\n",
       " 'Runtime': '126 min',\n",
       " 'Genre': 'Action, Adventure',\n",
       " 'Director': 'Tim Burton',\n",
       " 'Writer': 'Bob Kane (Batman characters), Sam Hamm (story), Sam Hamm (screenplay), Warren Skaaren (screenplay)',\n",
       " 'Actors': 'Michael Keaton, Jack Nicholson, Kim Basinger, Robert Wuhl',\n",
       " 'Plot': 'The Dark Knight of Gotham City begins his war on crime with his first major enemy being Jack Napier, a criminal who becomes the clownishly homicidal Joker.',\n",
       " 'Language': 'English, French, Spanish',\n",
       " 'Country': 'USA, UK',\n",
       " 'Awards': 'Won 1 Oscar. Another 8 wins & 26 nominations.',\n",
       " 'Poster': 'https://m.media-amazon.com/images/M/MV5BMTYwNjAyODIyMF5BMl5BanBnXkFtZTYwNDMwMDk2._V1_SX300.jpg',\n",
       " 'Ratings': [{'Source': 'Internet Movie Database', 'Value': '7.5/10'},\n",
       "  {'Source': 'Rotten Tomatoes', 'Value': '71%'},\n",
       "  {'Source': 'Metacritic', 'Value': '69/100'}],\n",
       " 'Metascore': '69',\n",
       " 'imdbRating': '7.5',\n",
       " 'imdbVotes': '329,552',\n",
       " 'imdbID': 'tt0096895',\n",
       " 'Type': 'movie',\n",
       " 'DVD': '25 Mar 1997',\n",
       " 'BoxOffice': 'N/A',\n",
       " 'Production': 'Warner Bros. Pictures',\n",
       " 'Website': 'N/A',\n",
       " 'Response': 'True'}"
      ]
     },
     "execution_count": 164,
     "metadata": {},
     "output_type": "execute_result"
    }
   ],
   "source": [
    "with open('datasets/importing-data/batman.json') as con:\n",
    "     # Loading the JSON data from the file and storing it in the variable 'batman'\n",
    "    batman = json.load(con)\n",
    "batman"
   ]
  },
  {
   "cell_type": "markdown",
   "id": "9d22e7db-83d5-45aa-bbce-3575f75d5926",
   "metadata": {},
   "source": [
    "<hr>\n",
    "The read file can be converted to pandas dataframe for easy visualization"
   ]
  },
  {
   "cell_type": "code",
   "execution_count": 165,
   "id": "cedcf0d7-d84b-4426-ad87-2ff3efd36f79",
   "metadata": {
    "tags": []
   },
   "outputs": [
    {
     "data": {
      "text/html": [
       "<div>\n",
       "<style scoped>\n",
       "    .dataframe tbody tr th:only-of-type {\n",
       "        vertical-align: middle;\n",
       "    }\n",
       "\n",
       "    .dataframe tbody tr th {\n",
       "        vertical-align: top;\n",
       "    }\n",
       "\n",
       "    .dataframe thead th {\n",
       "        text-align: right;\n",
       "    }\n",
       "</style>\n",
       "<table border=\"1\" class=\"dataframe\">\n",
       "  <thead>\n",
       "    <tr style=\"text-align: right;\">\n",
       "      <th></th>\n",
       "      <th>id</th>\n",
       "      <th>cover_url</th>\n",
       "      <th>description</th>\n",
       "      <th>rating</th>\n",
       "      <th>title</th>\n",
       "    </tr>\n",
       "  </thead>\n",
       "  <tbody>\n",
       "    <tr>\n",
       "      <th>0</th>\n",
       "      <td>4fede17c312f912796000034</td>\n",
       "      <td>None</td>\n",
       "      <td>None</td>\n",
       "      <td>6.3</td>\n",
       "      <td>L'affaire Gordji, histoire d'une cohabitation</td>\n",
       "    </tr>\n",
       "    <tr>\n",
       "      <th>1</th>\n",
       "      <td>4fede17f312f912796000035</td>\n",
       "      <td>None</td>\n",
       "      <td>Documentary telling the true story of the sink...</td>\n",
       "      <td>6.8</td>\n",
       "      <td>Le naufrage du Laconia - partie 1</td>\n",
       "    </tr>\n",
       "    <tr>\n",
       "      <th>2</th>\n",
       "      <td>4fede181312f912796000036</td>\n",
       "      <td>None</td>\n",
       "      <td>Documentary telling the true story of the sink...</td>\n",
       "      <td>6.8</td>\n",
       "      <td>Le naufrage du Laconia - partie 2</td>\n",
       "    </tr>\n",
       "    <tr>\n",
       "      <th>3</th>\n",
       "      <td>4fede184312f912796000037</td>\n",
       "      <td>http://ia.media-imdb.com/images/M/MV5BMjAyMTg0...</td>\n",
       "      <td>The extraordinary story of three Rwandan kids ...</td>\n",
       "      <td>6.2</td>\n",
       "      <td>Africa United</td>\n",
       "    </tr>\n",
       "    <tr>\n",
       "      <th>4</th>\n",
       "      <td>4fede186312f912796000038</td>\n",
       "      <td>http://ia.media-imdb.com/images/M/MV5BMjAyNDcx...</td>\n",
       "      <td>A young man is rocked by two announcements fro...</td>\n",
       "      <td>7.2</td>\n",
       "      <td>Beginners</td>\n",
       "    </tr>\n",
       "  </tbody>\n",
       "</table>\n",
       "</div>"
      ],
      "text/plain": [
       "                         id  \\\n",
       "0  4fede17c312f912796000034   \n",
       "1  4fede17f312f912796000035   \n",
       "2  4fede181312f912796000036   \n",
       "3  4fede184312f912796000037   \n",
       "4  4fede186312f912796000038   \n",
       "\n",
       "                                           cover_url  \\\n",
       "0                                               None   \n",
       "1                                               None   \n",
       "2                                               None   \n",
       "3  http://ia.media-imdb.com/images/M/MV5BMjAyMTg0...   \n",
       "4  http://ia.media-imdb.com/images/M/MV5BMjAyNDcx...   \n",
       "\n",
       "                                         description  rating  \\\n",
       "0                                               None     6.3   \n",
       "1  Documentary telling the true story of the sink...     6.8   \n",
       "2  Documentary telling the true story of the sink...     6.8   \n",
       "3  The extraordinary story of three Rwandan kids ...     6.2   \n",
       "4  A young man is rocked by two announcements fro...     7.2   \n",
       "\n",
       "                                           title  \n",
       "0  L'affaire Gordji, histoire d'une cohabitation  \n",
       "1              Le naufrage du Laconia - partie 1  \n",
       "2              Le naufrage du Laconia - partie 2  \n",
       "3                                  Africa United  \n",
       "4                                      Beginners  "
      ]
     },
     "execution_count": 165,
     "metadata": {},
     "output_type": "execute_result"
    }
   ],
   "source": [
    "with open('datasets/importing-data/movies.json') as con:\n",
    "    movies = json.load(con)\n",
    "movies = pd.DataFrame(movies)\n",
    "movies.head()"
   ]
  },
  {
   "cell_type": "markdown",
   "id": "82db2cb6-6f6b-4148-b4bc-488c601b7dbb",
   "metadata": {},
   "source": [
    "### 2.2. Reading JSON files directly to pandas\n",
    "Reading JSON files directly into a Pandas DataFrame is a common and convenient way to import data. It is done using the pandas `.read_json()` method."
   ]
  },
  {
   "cell_type": "code",
   "execution_count": 166,
   "id": "9566eabb-a7f8-4714-b0f7-f450542e5b7c",
   "metadata": {
    "tags": []
   },
   "outputs": [
    {
     "data": {
      "text/html": [
       "<div>\n",
       "<style scoped>\n",
       "    .dataframe tbody tr th:only-of-type {\n",
       "        vertical-align: middle;\n",
       "    }\n",
       "\n",
       "    .dataframe tbody tr th {\n",
       "        vertical-align: top;\n",
       "    }\n",
       "\n",
       "    .dataframe thead th {\n",
       "        text-align: right;\n",
       "    }\n",
       "</style>\n",
       "<table border=\"1\" class=\"dataframe\">\n",
       "  <thead>\n",
       "    <tr style=\"text-align: right;\">\n",
       "      <th></th>\n",
       "      <th>id</th>\n",
       "      <th>cover_url</th>\n",
       "      <th>description</th>\n",
       "      <th>rating</th>\n",
       "      <th>title</th>\n",
       "    </tr>\n",
       "  </thead>\n",
       "  <tbody>\n",
       "    <tr>\n",
       "      <th>0</th>\n",
       "      <td>4fede17c312f912796000034</td>\n",
       "      <td>None</td>\n",
       "      <td>None</td>\n",
       "      <td>6.3</td>\n",
       "      <td>L'affaire Gordji, histoire d'une cohabitation</td>\n",
       "    </tr>\n",
       "    <tr>\n",
       "      <th>1</th>\n",
       "      <td>4fede17f312f912796000035</td>\n",
       "      <td>None</td>\n",
       "      <td>Documentary telling the true story of the sink...</td>\n",
       "      <td>6.8</td>\n",
       "      <td>Le naufrage du Laconia - partie 1</td>\n",
       "    </tr>\n",
       "    <tr>\n",
       "      <th>2</th>\n",
       "      <td>4fede181312f912796000036</td>\n",
       "      <td>None</td>\n",
       "      <td>Documentary telling the true story of the sink...</td>\n",
       "      <td>6.8</td>\n",
       "      <td>Le naufrage du Laconia - partie 2</td>\n",
       "    </tr>\n",
       "    <tr>\n",
       "      <th>3</th>\n",
       "      <td>4fede184312f912796000037</td>\n",
       "      <td>http://ia.media-imdb.com/images/M/MV5BMjAyMTg0...</td>\n",
       "      <td>The extraordinary story of three Rwandan kids ...</td>\n",
       "      <td>6.2</td>\n",
       "      <td>Africa United</td>\n",
       "    </tr>\n",
       "    <tr>\n",
       "      <th>4</th>\n",
       "      <td>4fede186312f912796000038</td>\n",
       "      <td>http://ia.media-imdb.com/images/M/MV5BMjAyNDcx...</td>\n",
       "      <td>A young man is rocked by two announcements fro...</td>\n",
       "      <td>7.2</td>\n",
       "      <td>Beginners</td>\n",
       "    </tr>\n",
       "  </tbody>\n",
       "</table>\n",
       "</div>"
      ],
      "text/plain": [
       "                         id  \\\n",
       "0  4fede17c312f912796000034   \n",
       "1  4fede17f312f912796000035   \n",
       "2  4fede181312f912796000036   \n",
       "3  4fede184312f912796000037   \n",
       "4  4fede186312f912796000038   \n",
       "\n",
       "                                           cover_url  \\\n",
       "0                                               None   \n",
       "1                                               None   \n",
       "2                                               None   \n",
       "3  http://ia.media-imdb.com/images/M/MV5BMjAyMTg0...   \n",
       "4  http://ia.media-imdb.com/images/M/MV5BMjAyNDcx...   \n",
       "\n",
       "                                         description  rating  \\\n",
       "0                                               None     6.3   \n",
       "1  Documentary telling the true story of the sink...     6.8   \n",
       "2  Documentary telling the true story of the sink...     6.8   \n",
       "3  The extraordinary story of three Rwandan kids ...     6.2   \n",
       "4  A young man is rocked by two announcements fro...     7.2   \n",
       "\n",
       "                                           title  \n",
       "0  L'affaire Gordji, histoire d'une cohabitation  \n",
       "1              Le naufrage du Laconia - partie 1  \n",
       "2              Le naufrage du Laconia - partie 2  \n",
       "3                                  Africa United  \n",
       "4                                      Beginners  "
      ]
     },
     "execution_count": 166,
     "metadata": {},
     "output_type": "execute_result"
    }
   ],
   "source": [
    "movies = pd.read_json('datasets/importing-data/movies.json')\n",
    "movies.head()"
   ]
  },
  {
   "cell_type": "markdown",
   "id": "657fd0c9-f184-4947-9529-8fd74abf0a09",
   "metadata": {},
   "source": [
    "## 3. MATLAB\n",
    "MATLAB files are data files associated with the MATLAB software, a high-level programming language and interactive environment for numerical computing and data analysis. MATLAB files can contain various types of data, including variables, functions, scripts, and more. Here, we'll look at `.mat` files.\n",
    "\n",
    "We load the MATLAB file `ja_data2.mat` using the loadmat function from the SciPy library and acess the variable `CYratioCyt`."
   ]
  },
  {
   "cell_type": "code",
   "execution_count": 167,
   "id": "9e410b57-3f4d-4e2f-9c8c-4cade54a4ed2",
   "metadata": {
    "tags": []
   },
   "outputs": [],
   "source": [
    "from scipy.io import loadmat"
   ]
  },
  {
   "cell_type": "code",
   "execution_count": 168,
   "id": "7b3d4093-beaf-4450-a006-f8d09e9c8313",
   "metadata": {
    "tags": []
   },
   "outputs": [
    {
     "data": {
      "text/plain": [
       "dict_keys(['__header__', '__version__', '__globals__', 'rfpCyt', 'rfpNuc', 'cfpNuc', 'cfpCyt', 'yfpNuc', 'yfpCyt', 'CYratioCyt'])"
      ]
     },
     "execution_count": 168,
     "metadata": {},
     "output_type": "execute_result"
    }
   ],
   "source": [
    "# Reading the file\n",
    "data = loadmat('datasets/importing-data/ja_data2.mat')\n",
    "\n",
    "# Getting the keys (variable names) present in the loaded MATLAB file\n",
    "data.keys()"
   ]
  },
  {
   "cell_type": "code",
   "execution_count": 169,
   "id": "0a156dd2-c017-458f-9b72-1b81b108b80e",
   "metadata": {
    "tags": []
   },
   "outputs": [
    {
     "data": {
      "text/plain": [
       "(200, 137)"
      ]
     },
     "execution_count": 169,
     "metadata": {},
     "output_type": "execute_result"
    }
   ],
   "source": [
    "# Check the shape of CYratioCyt\n",
    "data['CYratioCyt'].shape"
   ]
  },
  {
   "cell_type": "code",
   "execution_count": 170,
   "id": "d5470790-6c02-4e62-bebb-d469978a29f4",
   "metadata": {
    "tags": []
   },
   "outputs": [
    {
     "data": {
      "text/plain": [
       "array([[0.        , 1.53071547, 1.54297013, ..., 1.34990123, 1.35329984,\n",
       "        1.34922173],\n",
       "       [0.        , 1.28605578, 1.29385656, ..., 1.31307311, 1.30039694,\n",
       "        1.30563938],\n",
       "       [0.        , 1.32731222, 1.32884617, ..., 1.24887565, 1.24506205,\n",
       "        1.25825831],\n",
       "       ...,\n",
       "       [0.        , 0.        , 0.        , ..., 0.        , 0.        ,\n",
       "        0.        ],\n",
       "       [0.        , 1.44552606, 1.42862357, ..., 0.        , 0.        ,\n",
       "        0.        ],\n",
       "       [0.        , 1.45794466, 0.        , ..., 1.1229479 , 1.12224652,\n",
       "        1.1486481 ]])"
      ]
     },
     "execution_count": 170,
     "metadata": {},
     "output_type": "execute_result"
    }
   ],
   "source": [
    "# Display CYratioCyt data\n",
    "data['CYratioCyt']"
   ]
  },
  {
   "cell_type": "markdown",
   "id": "fc4a981e-7d91-4389-b235-c54e7060d340",
   "metadata": {
    "tags": []
   },
   "source": [
    "## 4. Stata\n",
    "Files with the extension `.dta`  are the primary data files used by Stata. They can contain datasets, variables, labels, and other metadata.\n",
    "\n",
    "They can be read using the pandas `.read_stata()` method. "
   ]
  },
  {
   "cell_type": "code",
   "execution_count": 171,
   "id": "3adc3398-d0b1-4449-909f-003207bdc238",
   "metadata": {
    "tags": []
   },
   "outputs": [
    {
     "data": {
      "text/html": [
       "<div>\n",
       "<style scoped>\n",
       "    .dataframe tbody tr th:only-of-type {\n",
       "        vertical-align: middle;\n",
       "    }\n",
       "\n",
       "    .dataframe tbody tr th {\n",
       "        vertical-align: top;\n",
       "    }\n",
       "\n",
       "    .dataframe thead th {\n",
       "        text-align: right;\n",
       "    }\n",
       "</style>\n",
       "<table border=\"1\" class=\"dataframe\">\n",
       "  <thead>\n",
       "    <tr style=\"text-align: right;\">\n",
       "      <th></th>\n",
       "      <th>make</th>\n",
       "      <th>price</th>\n",
       "      <th>mpg</th>\n",
       "      <th>rep78</th>\n",
       "      <th>headroom</th>\n",
       "      <th>trunk</th>\n",
       "      <th>weight</th>\n",
       "      <th>length</th>\n",
       "      <th>turn</th>\n",
       "      <th>displacement</th>\n",
       "      <th>gear_ratio</th>\n",
       "      <th>foreign</th>\n",
       "    </tr>\n",
       "  </thead>\n",
       "  <tbody>\n",
       "    <tr>\n",
       "      <th>0</th>\n",
       "      <td>AMC Concord</td>\n",
       "      <td>4099</td>\n",
       "      <td>22</td>\n",
       "      <td>3.0</td>\n",
       "      <td>2.5</td>\n",
       "      <td>11</td>\n",
       "      <td>2930</td>\n",
       "      <td>186</td>\n",
       "      <td>40</td>\n",
       "      <td>121</td>\n",
       "      <td>3.58</td>\n",
       "      <td>Domestic</td>\n",
       "    </tr>\n",
       "    <tr>\n",
       "      <th>1</th>\n",
       "      <td>AMC Pacer</td>\n",
       "      <td>4749</td>\n",
       "      <td>17</td>\n",
       "      <td>3.0</td>\n",
       "      <td>3.0</td>\n",
       "      <td>11</td>\n",
       "      <td>3350</td>\n",
       "      <td>173</td>\n",
       "      <td>40</td>\n",
       "      <td>258</td>\n",
       "      <td>2.53</td>\n",
       "      <td>Domestic</td>\n",
       "    </tr>\n",
       "    <tr>\n",
       "      <th>2</th>\n",
       "      <td>AMC Spirit</td>\n",
       "      <td>3799</td>\n",
       "      <td>22</td>\n",
       "      <td>NaN</td>\n",
       "      <td>3.0</td>\n",
       "      <td>12</td>\n",
       "      <td>2640</td>\n",
       "      <td>168</td>\n",
       "      <td>35</td>\n",
       "      <td>121</td>\n",
       "      <td>3.08</td>\n",
       "      <td>Domestic</td>\n",
       "    </tr>\n",
       "    <tr>\n",
       "      <th>3</th>\n",
       "      <td>Buick Century</td>\n",
       "      <td>4816</td>\n",
       "      <td>20</td>\n",
       "      <td>3.0</td>\n",
       "      <td>4.5</td>\n",
       "      <td>16</td>\n",
       "      <td>3250</td>\n",
       "      <td>196</td>\n",
       "      <td>40</td>\n",
       "      <td>196</td>\n",
       "      <td>2.93</td>\n",
       "      <td>Domestic</td>\n",
       "    </tr>\n",
       "    <tr>\n",
       "      <th>4</th>\n",
       "      <td>Buick Electra</td>\n",
       "      <td>7827</td>\n",
       "      <td>15</td>\n",
       "      <td>4.0</td>\n",
       "      <td>4.0</td>\n",
       "      <td>20</td>\n",
       "      <td>4080</td>\n",
       "      <td>222</td>\n",
       "      <td>43</td>\n",
       "      <td>350</td>\n",
       "      <td>2.41</td>\n",
       "      <td>Domestic</td>\n",
       "    </tr>\n",
       "  </tbody>\n",
       "</table>\n",
       "</div>"
      ],
      "text/plain": [
       "            make  price  mpg  rep78  headroom  trunk  weight  length  turn  \\\n",
       "0    AMC Concord   4099   22    3.0       2.5     11    2930     186    40   \n",
       "1      AMC Pacer   4749   17    3.0       3.0     11    3350     173    40   \n",
       "2     AMC Spirit   3799   22    NaN       3.0     12    2640     168    35   \n",
       "3  Buick Century   4816   20    3.0       4.5     16    3250     196    40   \n",
       "4  Buick Electra   7827   15    4.0       4.0     20    4080     222    43   \n",
       "\n",
       "   displacement  gear_ratio   foreign  \n",
       "0           121        3.58  Domestic  \n",
       "1           258        2.53  Domestic  \n",
       "2           121        3.08  Domestic  \n",
       "3           196        2.93  Domestic  \n",
       "4           350        2.41  Domestic  "
      ]
     },
     "execution_count": 171,
     "metadata": {},
     "output_type": "execute_result"
    }
   ],
   "source": [
    "auto = pd.read_stata('datasets/importing-data/auto.dta')\n",
    "auto.head()"
   ]
  },
  {
   "cell_type": "markdown",
   "id": "f9098860-aa0e-463b-9369-381383f687ec",
   "metadata": {
    "tags": []
   },
   "source": [
    "## 5. Excel\n",
    "### 5.1. Using pandas read_excel\n",
    "Excel files can be read directly by the pandas method `.read_excel()`. Installation of additional packages may be required."
   ]
  },
  {
   "cell_type": "code",
   "execution_count": 172,
   "id": "cf8281bb-a42c-4621-9c16-6ef04ee6a059",
   "metadata": {
    "tags": []
   },
   "outputs": [
    {
     "data": {
      "text/html": [
       "<div>\n",
       "<style scoped>\n",
       "    .dataframe tbody tr th:only-of-type {\n",
       "        vertical-align: middle;\n",
       "    }\n",
       "\n",
       "    .dataframe tbody tr th {\n",
       "        vertical-align: top;\n",
       "    }\n",
       "\n",
       "    .dataframe thead th {\n",
       "        text-align: right;\n",
       "    }\n",
       "</style>\n",
       "<table border=\"1\" class=\"dataframe\">\n",
       "  <thead>\n",
       "    <tr style=\"text-align: right;\">\n",
       "      <th></th>\n",
       "      <th>country</th>\n",
       "      <th>1700</th>\n",
       "    </tr>\n",
       "  </thead>\n",
       "  <tbody>\n",
       "    <tr>\n",
       "      <th>0</th>\n",
       "      <td>Afghanistan</td>\n",
       "      <td>34.565000</td>\n",
       "    </tr>\n",
       "    <tr>\n",
       "      <th>1</th>\n",
       "      <td>Akrotiri and Dhekelia</td>\n",
       "      <td>34.616667</td>\n",
       "    </tr>\n",
       "    <tr>\n",
       "      <th>2</th>\n",
       "      <td>Albania</td>\n",
       "      <td>41.312000</td>\n",
       "    </tr>\n",
       "    <tr>\n",
       "      <th>3</th>\n",
       "      <td>Algeria</td>\n",
       "      <td>36.720000</td>\n",
       "    </tr>\n",
       "    <tr>\n",
       "      <th>4</th>\n",
       "      <td>American Samoa</td>\n",
       "      <td>-14.307000</td>\n",
       "    </tr>\n",
       "  </tbody>\n",
       "</table>\n",
       "</div>"
      ],
      "text/plain": [
       "                 country       1700\n",
       "0            Afghanistan  34.565000\n",
       "1  Akrotiri and Dhekelia  34.616667\n",
       "2                Albania  41.312000\n",
       "3                Algeria  36.720000\n",
       "4         American Samoa -14.307000"
      ]
     },
     "execution_count": 172,
     "metadata": {},
     "output_type": "execute_result"
    }
   ],
   "source": [
    "# Using Pandas to read an Excel file named 'latitude.xls'\n",
    "latitude = pd.read_excel('datasets/importing-data/latitude.xls')\n",
    "latitude.head()"
   ]
  },
  {
   "cell_type": "markdown",
   "id": "346314c1-9ed7-47a9-8c32-1b0f3b2b9057",
   "metadata": {},
   "source": [
    "#### 5.1.1. Multiple sheets\n",
    "If the file has multiple sheets, specify the sheet name."
   ]
  },
  {
   "cell_type": "code",
   "execution_count": 173,
   "id": "f43a91f6-95d2-47ec-890a-6a2e2c37ccc6",
   "metadata": {
    "tags": []
   },
   "outputs": [
    {
     "data": {
      "text/html": [
       "<div>\n",
       "<style scoped>\n",
       "    .dataframe tbody tr th:only-of-type {\n",
       "        vertical-align: middle;\n",
       "    }\n",
       "\n",
       "    .dataframe tbody tr th {\n",
       "        vertical-align: top;\n",
       "    }\n",
       "\n",
       "    .dataframe thead th {\n",
       "        text-align: right;\n",
       "    }\n",
       "</style>\n",
       "<table border=\"1\" class=\"dataframe\">\n",
       "  <thead>\n",
       "    <tr style=\"text-align: right;\">\n",
       "      <th></th>\n",
       "      <th>Country Code</th>\n",
       "      <th>Country Name</th>\n",
       "      <th>Region</th>\n",
       "      <th>Year</th>\n",
       "      <th>CO2 (kt)</th>\n",
       "    </tr>\n",
       "  </thead>\n",
       "  <tbody>\n",
       "    <tr>\n",
       "      <th>5764</th>\n",
       "      <td>LCA</td>\n",
       "      <td>St. Lucia</td>\n",
       "      <td>Latin America &amp; Caribbean</td>\n",
       "      <td>2004</td>\n",
       "      <td>355.699</td>\n",
       "    </tr>\n",
       "    <tr>\n",
       "      <th>1798</th>\n",
       "      <td>CHI</td>\n",
       "      <td>Channel Islands</td>\n",
       "      <td>Europe &amp; Central Asia</td>\n",
       "      <td>1990</td>\n",
       "      <td>NaN</td>\n",
       "    </tr>\n",
       "    <tr>\n",
       "      <th>5235</th>\n",
       "      <td>KHM</td>\n",
       "      <td>Cambodia</td>\n",
       "      <td>East Asia &amp; Pacific</td>\n",
       "      <td>1995</td>\n",
       "      <td>1551.141</td>\n",
       "    </tr>\n",
       "    <tr>\n",
       "      <th>1574</th>\n",
       "      <td>BWA</td>\n",
       "      <td>Botswana</td>\n",
       "      <td>Sub-Saharan Africa</td>\n",
       "      <td>1974</td>\n",
       "      <td>88.008</td>\n",
       "    </tr>\n",
       "    <tr>\n",
       "      <th>10004</th>\n",
       "      <td>TTO</td>\n",
       "      <td>Trinidad and Tobago</td>\n",
       "      <td>Latin America &amp; Caribbean</td>\n",
       "      <td>1981</td>\n",
       "      <td>17260.569</td>\n",
       "    </tr>\n",
       "    <tr>\n",
       "      <th>11097</th>\n",
       "      <td>ZWE</td>\n",
       "      <td>Zimbabwe</td>\n",
       "      <td>Sub-Saharan Africa</td>\n",
       "      <td>1982</td>\n",
       "      <td>8811.801</td>\n",
       "    </tr>\n",
       "    <tr>\n",
       "      <th>8219</th>\n",
       "      <td>PRY</td>\n",
       "      <td>Paraguay</td>\n",
       "      <td>Latin America &amp; Caribbean</td>\n",
       "      <td>1963</td>\n",
       "      <td>410.704</td>\n",
       "    </tr>\n",
       "  </tbody>\n",
       "</table>\n",
       "</div>"
      ],
      "text/plain": [
       "      Country Code         Country Name                     Region  Year  \\\n",
       "5764           LCA            St. Lucia  Latin America & Caribbean  2004   \n",
       "1798           CHI      Channel Islands      Europe & Central Asia  1990   \n",
       "5235           KHM             Cambodia        East Asia & Pacific  1995   \n",
       "1574           BWA             Botswana         Sub-Saharan Africa  1974   \n",
       "10004          TTO  Trinidad and Tobago  Latin America & Caribbean  1981   \n",
       "11097          ZWE             Zimbabwe         Sub-Saharan Africa  1982   \n",
       "8219           PRY             Paraguay  Latin America & Caribbean  1963   \n",
       "\n",
       "        CO2 (kt)  \n",
       "5764     355.699  \n",
       "1798         NaN  \n",
       "5235    1551.141  \n",
       "1574      88.008  \n",
       "10004  17260.569  \n",
       "11097   8811.801  \n",
       "8219     410.704  "
      ]
     },
     "execution_count": 173,
     "metadata": {},
     "output_type": "execute_result"
    }
   ],
   "source": [
    "# Using Pandas to read an Excel file named 'CO2-Dataset.xlsx'\n",
    "co2 = pd.read_excel('datasets/importing-data/CO2-Dataset.xlsx',  sheet_name = 'CO2 (kt) for Split')\n",
    "co2.sample(7)"
   ]
  },
  {
   "cell_type": "markdown",
   "id": "c7da9fdc-0591-4dc3-8b82-161a5b39a61f",
   "metadata": {},
   "source": [
    "### 5.2. Using pandas .ExcelFile\n",
    "This method can be used to display all sheet names in the workbook."
   ]
  },
  {
   "cell_type": "code",
   "execution_count": 174,
   "id": "49f28236-3bb6-4d72-9abc-0ca589409045",
   "metadata": {
    "tags": []
   },
   "outputs": [
    {
     "data": {
      "text/plain": [
       "['About',\n",
       " 'CO2 (kt) Pivoted',\n",
       " 'CO2 (kt) RAW DATA',\n",
       " 'CO2 Data Cleaned',\n",
       " 'CO2 (kt) for Split',\n",
       " 'CO2 for World to Union',\n",
       " 'CO2 Per Capita RAW DATA',\n",
       " 'CO2 Per Capita (Pivoted)',\n",
       " 'Metadata - Countries']"
      ]
     },
     "execution_count": 174,
     "metadata": {},
     "output_type": "execute_result"
    }
   ],
   "source": [
    "# Read the file\n",
    "co2_wide = pd.ExcelFile('datasets/importing-data/CO2-Dataset.xlsx')\n",
    "\n",
    "# Display the sheets in the workbook\n",
    "co2_wide.sheet_names"
   ]
  },
  {
   "cell_type": "markdown",
   "id": "9f768a0d-74cc-465f-bdf3-f104f1481e25",
   "metadata": {},
   "source": [
    "To load a particular sheet as a dataframe, apply the `.parse()` method to the object data with a single argument, which is either the name as a string or the index."
   ]
  },
  {
   "cell_type": "code",
   "execution_count": 175,
   "id": "895156e8-9a44-4201-a04f-cad373bdeedd",
   "metadata": {
    "tags": []
   },
   "outputs": [
    {
     "data": {
      "text/html": [
       "<div>\n",
       "<style scoped>\n",
       "    .dataframe tbody tr th:only-of-type {\n",
       "        vertical-align: middle;\n",
       "    }\n",
       "\n",
       "    .dataframe tbody tr th {\n",
       "        vertical-align: top;\n",
       "    }\n",
       "\n",
       "    .dataframe thead th {\n",
       "        text-align: right;\n",
       "    }\n",
       "</style>\n",
       "<table border=\"1\" class=\"dataframe\">\n",
       "  <thead>\n",
       "    <tr style=\"text-align: right;\">\n",
       "      <th></th>\n",
       "      <th>Country Code</th>\n",
       "      <th>Country Name</th>\n",
       "      <th>Region</th>\n",
       "      <th>Year</th>\n",
       "      <th>CO2 (kt)</th>\n",
       "      <th>CO2 Per Capita (metric tons)</th>\n",
       "    </tr>\n",
       "  </thead>\n",
       "  <tbody>\n",
       "    <tr>\n",
       "      <th>0</th>\n",
       "      <td>ABW</td>\n",
       "      <td>Aruba</td>\n",
       "      <td>Latin America &amp; Caribbean</td>\n",
       "      <td>1960</td>\n",
       "      <td>NaN</td>\n",
       "      <td>NaN</td>\n",
       "    </tr>\n",
       "    <tr>\n",
       "      <th>1</th>\n",
       "      <td>ABW</td>\n",
       "      <td>Aruba</td>\n",
       "      <td>Latin America &amp; Caribbean</td>\n",
       "      <td>1961</td>\n",
       "      <td>NaN</td>\n",
       "      <td>NaN</td>\n",
       "    </tr>\n",
       "    <tr>\n",
       "      <th>2</th>\n",
       "      <td>ABW</td>\n",
       "      <td>Aruba</td>\n",
       "      <td>Latin America &amp; Caribbean</td>\n",
       "      <td>1962</td>\n",
       "      <td>NaN</td>\n",
       "      <td>NaN</td>\n",
       "    </tr>\n",
       "    <tr>\n",
       "      <th>3</th>\n",
       "      <td>ABW</td>\n",
       "      <td>Aruba</td>\n",
       "      <td>Latin America &amp; Caribbean</td>\n",
       "      <td>1963</td>\n",
       "      <td>NaN</td>\n",
       "      <td>NaN</td>\n",
       "    </tr>\n",
       "    <tr>\n",
       "      <th>4</th>\n",
       "      <td>ABW</td>\n",
       "      <td>Aruba</td>\n",
       "      <td>Latin America &amp; Caribbean</td>\n",
       "      <td>1964</td>\n",
       "      <td>NaN</td>\n",
       "      <td>NaN</td>\n",
       "    </tr>\n",
       "  </tbody>\n",
       "</table>\n",
       "</div>"
      ],
      "text/plain": [
       "  Country Code Country Name                     Region  Year  CO2 (kt)  \\\n",
       "0          ABW        Aruba  Latin America & Caribbean  1960       NaN   \n",
       "1          ABW        Aruba  Latin America & Caribbean  1961       NaN   \n",
       "2          ABW        Aruba  Latin America & Caribbean  1962       NaN   \n",
       "3          ABW        Aruba  Latin America & Caribbean  1963       NaN   \n",
       "4          ABW        Aruba  Latin America & Caribbean  1964       NaN   \n",
       "\n",
       "   CO2 Per Capita (metric tons)  \n",
       "0                           NaN  \n",
       "1                           NaN  \n",
       "2                           NaN  \n",
       "3                           NaN  \n",
       "4                           NaN  "
      ]
     },
     "execution_count": 175,
     "metadata": {},
     "output_type": "execute_result"
    }
   ],
   "source": [
    "# Parse using the string name of the sheet\n",
    "co2_clean = co2_wide.parse('CO2 Data Cleaned')\n",
    "co2_clean.head()"
   ]
  },
  {
   "cell_type": "code",
   "execution_count": 176,
   "id": "c82c8026-6b38-4f87-807a-287dc7d213c5",
   "metadata": {
    "tags": []
   },
   "outputs": [
    {
     "data": {
      "text/html": [
       "<div>\n",
       "<style scoped>\n",
       "    .dataframe tbody tr th:only-of-type {\n",
       "        vertical-align: middle;\n",
       "    }\n",
       "\n",
       "    .dataframe tbody tr th {\n",
       "        vertical-align: top;\n",
       "    }\n",
       "\n",
       "    .dataframe thead th {\n",
       "        text-align: right;\n",
       "    }\n",
       "</style>\n",
       "<table border=\"1\" class=\"dataframe\">\n",
       "  <thead>\n",
       "    <tr style=\"text-align: right;\">\n",
       "      <th></th>\n",
       "      <th>Country Code</th>\n",
       "      <th>Country Name</th>\n",
       "      <th>Region</th>\n",
       "      <th>Year</th>\n",
       "      <th>CO2 (kt)</th>\n",
       "      <th>CO2 Per Capita (metric tons)</th>\n",
       "    </tr>\n",
       "  </thead>\n",
       "  <tbody>\n",
       "    <tr>\n",
       "      <th>0</th>\n",
       "      <td>ABW</td>\n",
       "      <td>Aruba</td>\n",
       "      <td>Latin America &amp; Caribbean</td>\n",
       "      <td>1960</td>\n",
       "      <td>NaN</td>\n",
       "      <td>NaN</td>\n",
       "    </tr>\n",
       "    <tr>\n",
       "      <th>1</th>\n",
       "      <td>ABW</td>\n",
       "      <td>Aruba</td>\n",
       "      <td>Latin America &amp; Caribbean</td>\n",
       "      <td>1961</td>\n",
       "      <td>NaN</td>\n",
       "      <td>NaN</td>\n",
       "    </tr>\n",
       "    <tr>\n",
       "      <th>2</th>\n",
       "      <td>ABW</td>\n",
       "      <td>Aruba</td>\n",
       "      <td>Latin America &amp; Caribbean</td>\n",
       "      <td>1962</td>\n",
       "      <td>NaN</td>\n",
       "      <td>NaN</td>\n",
       "    </tr>\n",
       "    <tr>\n",
       "      <th>3</th>\n",
       "      <td>ABW</td>\n",
       "      <td>Aruba</td>\n",
       "      <td>Latin America &amp; Caribbean</td>\n",
       "      <td>1963</td>\n",
       "      <td>NaN</td>\n",
       "      <td>NaN</td>\n",
       "    </tr>\n",
       "    <tr>\n",
       "      <th>4</th>\n",
       "      <td>ABW</td>\n",
       "      <td>Aruba</td>\n",
       "      <td>Latin America &amp; Caribbean</td>\n",
       "      <td>1964</td>\n",
       "      <td>NaN</td>\n",
       "      <td>NaN</td>\n",
       "    </tr>\n",
       "  </tbody>\n",
       "</table>\n",
       "</div>"
      ],
      "text/plain": [
       "  Country Code Country Name                     Region  Year  CO2 (kt)  \\\n",
       "0          ABW        Aruba  Latin America & Caribbean  1960       NaN   \n",
       "1          ABW        Aruba  Latin America & Caribbean  1961       NaN   \n",
       "2          ABW        Aruba  Latin America & Caribbean  1962       NaN   \n",
       "3          ABW        Aruba  Latin America & Caribbean  1963       NaN   \n",
       "4          ABW        Aruba  Latin America & Caribbean  1964       NaN   \n",
       "\n",
       "   CO2 Per Capita (metric tons)  \n",
       "0                           NaN  \n",
       "1                           NaN  \n",
       "2                           NaN  \n",
       "3                           NaN  \n",
       "4                           NaN  "
      ]
     },
     "execution_count": 176,
     "metadata": {},
     "output_type": "execute_result"
    }
   ],
   "source": [
    "# Parse using the index location of the sheet.\n",
    "co2_clean_index = co2_wide.parse(3)\n",
    "co2_clean_index.head()"
   ]
  },
  {
   "cell_type": "markdown",
   "id": "349c1d32-7808-4d80-a977-50baea7bb6f0",
   "metadata": {
    "tags": []
   },
   "source": [
    "## 6. Comma-separated files\n",
    "CSV stands for Comma-Separated Values. It is a widely used file format for storing tabular data in plain text. In a CSV file, each line represents a row of data, and within each line, individual values are separated by commas (,). CSV files typically have a `.csv` file extension."
   ]
  },
  {
   "cell_type": "code",
   "execution_count": 177,
   "id": "9fdf8cb3-e4bd-48e3-8c55-b0065a087330",
   "metadata": {
    "tags": []
   },
   "outputs": [
    {
     "data": {
      "text/html": [
       "<div>\n",
       "<style scoped>\n",
       "    .dataframe tbody tr th:only-of-type {\n",
       "        vertical-align: middle;\n",
       "    }\n",
       "\n",
       "    .dataframe tbody tr th {\n",
       "        vertical-align: top;\n",
       "    }\n",
       "\n",
       "    .dataframe thead th {\n",
       "        text-align: right;\n",
       "    }\n",
       "</style>\n",
       "<table border=\"1\" class=\"dataframe\">\n",
       "  <thead>\n",
       "    <tr style=\"text-align: right;\">\n",
       "      <th></th>\n",
       "      <th>Release Date</th>\n",
       "      <th>Wikipedia URL</th>\n",
       "      <th>Genre</th>\n",
       "      <th>Director (1)</th>\n",
       "      <th>Director (2)</th>\n",
       "      <th>Cast (1)</th>\n",
       "      <th>Cast (2)</th>\n",
       "      <th>Cast (3)</th>\n",
       "      <th>Cast (4)</th>\n",
       "      <th>Cast (5)</th>\n",
       "      <th>Budget</th>\n",
       "      <th>Revenue</th>\n",
       "    </tr>\n",
       "    <tr>\n",
       "      <th>Movie Title</th>\n",
       "      <th></th>\n",
       "      <th></th>\n",
       "      <th></th>\n",
       "      <th></th>\n",
       "      <th></th>\n",
       "      <th></th>\n",
       "      <th></th>\n",
       "      <th></th>\n",
       "      <th></th>\n",
       "      <th></th>\n",
       "      <th></th>\n",
       "      <th></th>\n",
       "    </tr>\n",
       "  </thead>\n",
       "  <tbody>\n",
       "    <tr>\n",
       "      <th>10 Cloverfield Lane</th>\n",
       "      <td>2016-03-08</td>\n",
       "      <td>https://en.wikipedia.org/wiki/10_Cloverfield_Lane</td>\n",
       "      <td>Thriller</td>\n",
       "      <td>Dan Trachtenberg</td>\n",
       "      <td>NaN</td>\n",
       "      <td>Mary Elizabeth Winstead</td>\n",
       "      <td>John Goodman</td>\n",
       "      <td>John Gallagher</td>\n",
       "      <td>NaN</td>\n",
       "      <td>NaN</td>\n",
       "      <td>$15,000,000.00</td>\n",
       "      <td>$108,300,000.00</td>\n",
       "    </tr>\n",
       "    <tr>\n",
       "      <th>13 Hours: The Secret Soldiers of Benghazi</th>\n",
       "      <td>2016-01-15</td>\n",
       "      <td>https://en.wikipedia.org/wiki/13_Hours:_The_Se...</td>\n",
       "      <td>Action</td>\n",
       "      <td>Michael Bay</td>\n",
       "      <td>NaN</td>\n",
       "      <td>James Badge Dale</td>\n",
       "      <td>John Krasinski</td>\n",
       "      <td>Toby Stephens</td>\n",
       "      <td>Pablo Schreiber</td>\n",
       "      <td>Max Martini</td>\n",
       "      <td>$45,000,000.00</td>\n",
       "      <td>$69,400,000.00</td>\n",
       "    </tr>\n",
       "    <tr>\n",
       "      <th>2 Guns</th>\n",
       "      <td>2013-08-02</td>\n",
       "      <td>https://en.wikipedia.org/wiki/2_Guns</td>\n",
       "      <td>Action</td>\n",
       "      <td>Baltasar Kormákur</td>\n",
       "      <td>NaN</td>\n",
       "      <td>Mark Wahlberg</td>\n",
       "      <td>Denzel Washington</td>\n",
       "      <td>Paula Patton</td>\n",
       "      <td>Bill Paxton</td>\n",
       "      <td>Edward James Olmos</td>\n",
       "      <td>$61,000,000.00</td>\n",
       "      <td>$131,900,000.00</td>\n",
       "    </tr>\n",
       "    <tr>\n",
       "      <th>21 Jump Street</th>\n",
       "      <td>2012-03-16</td>\n",
       "      <td>https://en.wikipedia.org/wiki/21_Jump_Street_(...</td>\n",
       "      <td>Comedy</td>\n",
       "      <td>Phil Lord</td>\n",
       "      <td>Chris Miller</td>\n",
       "      <td>Jonah Hill</td>\n",
       "      <td>Channing Tatum</td>\n",
       "      <td>Ice Cube</td>\n",
       "      <td>Brie Larson</td>\n",
       "      <td>Rob Riggle</td>\n",
       "      <td>$55,000,000.00</td>\n",
       "      <td>$201,500,000.00</td>\n",
       "    </tr>\n",
       "    <tr>\n",
       "      <th>22 Jump Street</th>\n",
       "      <td>2014-06-04</td>\n",
       "      <td>https://en.wikipedia.org/wiki/22_Jump_Street</td>\n",
       "      <td>Action</td>\n",
       "      <td>Phil Lord</td>\n",
       "      <td>Chris Miller</td>\n",
       "      <td>Channing Tatum</td>\n",
       "      <td>Jonah Hill</td>\n",
       "      <td>Ice Cube</td>\n",
       "      <td>NaN</td>\n",
       "      <td>NaN</td>\n",
       "      <td>$84,500,000.00</td>\n",
       "      <td>$331,300,000.00</td>\n",
       "    </tr>\n",
       "  </tbody>\n",
       "</table>\n",
       "</div>"
      ],
      "text/plain": [
       "                                          Release Date  \\\n",
       "Movie Title                                              \n",
       "10 Cloverfield Lane                         2016-03-08   \n",
       "13 Hours: The Secret Soldiers of Benghazi   2016-01-15   \n",
       "2 Guns                                      2013-08-02   \n",
       "21 Jump Street                              2012-03-16   \n",
       "22 Jump Street                              2014-06-04   \n",
       "\n",
       "                                                                               Wikipedia URL  \\\n",
       "Movie Title                                                                                    \n",
       "10 Cloverfield Lane                        https://en.wikipedia.org/wiki/10_Cloverfield_Lane   \n",
       "13 Hours: The Secret Soldiers of Benghazi  https://en.wikipedia.org/wiki/13_Hours:_The_Se...   \n",
       "2 Guns                                                  https://en.wikipedia.org/wiki/2_Guns   \n",
       "21 Jump Street                             https://en.wikipedia.org/wiki/21_Jump_Street_(...   \n",
       "22 Jump Street                                  https://en.wikipedia.org/wiki/22_Jump_Street   \n",
       "\n",
       "                                              Genre       Director (1)  \\\n",
       "Movie Title                                                              \n",
       "10 Cloverfield Lane                        Thriller   Dan Trachtenberg   \n",
       "13 Hours: The Secret Soldiers of Benghazi    Action        Michael Bay   \n",
       "2 Guns                                       Action  Baltasar Kormákur   \n",
       "21 Jump Street                               Comedy          Phil Lord   \n",
       "22 Jump Street                               Action          Phil Lord   \n",
       "\n",
       "                                           Director (2)  \\\n",
       "Movie Title                                               \n",
       "10 Cloverfield Lane                                 NaN   \n",
       "13 Hours: The Secret Soldiers of Benghazi           NaN   \n",
       "2 Guns                                              NaN   \n",
       "21 Jump Street                             Chris Miller   \n",
       "22 Jump Street                             Chris Miller   \n",
       "\n",
       "                                                          Cast (1)  \\\n",
       "Movie Title                                                          \n",
       "10 Cloverfield Lane                        Mary Elizabeth Winstead   \n",
       "13 Hours: The Secret Soldiers of Benghazi         James Badge Dale   \n",
       "2 Guns                                               Mark Wahlberg   \n",
       "21 Jump Street                                          Jonah Hill   \n",
       "22 Jump Street                                      Channing Tatum   \n",
       "\n",
       "                                                    Cast (2)        Cast (3)  \\\n",
       "Movie Title                                                                    \n",
       "10 Cloverfield Lane                             John Goodman  John Gallagher   \n",
       "13 Hours: The Secret Soldiers of Benghazi     John Krasinski   Toby Stephens   \n",
       "2 Guns                                     Denzel Washington    Paula Patton   \n",
       "21 Jump Street                                Channing Tatum        Ice Cube   \n",
       "22 Jump Street                                    Jonah Hill        Ice Cube   \n",
       "\n",
       "                                                  Cast (4)  \\\n",
       "Movie Title                                                  \n",
       "10 Cloverfield Lane                                    NaN   \n",
       "13 Hours: The Secret Soldiers of Benghazi  Pablo Schreiber   \n",
       "2 Guns                                         Bill Paxton   \n",
       "21 Jump Street                                 Brie Larson   \n",
       "22 Jump Street                                         NaN   \n",
       "\n",
       "                                                     Cast (5)         Budget   \\\n",
       "Movie Title                                                                     \n",
       "10 Cloverfield Lane                                       NaN  $15,000,000.00   \n",
       "13 Hours: The Secret Soldiers of Benghazi         Max Martini  $45,000,000.00   \n",
       "2 Guns                                     Edward James Olmos  $61,000,000.00   \n",
       "21 Jump Street                                     Rob Riggle  $55,000,000.00   \n",
       "22 Jump Street                                            NaN  $84,500,000.00   \n",
       "\n",
       "                                                   Revenue  \n",
       "Movie Title                                                 \n",
       "10 Cloverfield Lane                        $108,300,000.00  \n",
       "13 Hours: The Secret Soldiers of Benghazi   $69,400,000.00  \n",
       "2 Guns                                     $131,900,000.00  \n",
       "21 Jump Street                             $201,500,000.00  \n",
       "22 Jump Street                             $331,300,000.00  "
      ]
     },
     "execution_count": 177,
     "metadata": {},
     "output_type": "execute_result"
    }
   ],
   "source": [
    "movies = pd.read_csv('datasets/importing-data/Movie-Data.csv', index_col = 'Movie Title')\n",
    "movies.head()"
   ]
  },
  {
   "cell_type": "markdown",
   "id": "acd7f74d-d4ce-48b0-b8f8-17aaf56cdb8c",
   "metadata": {},
   "source": [
    "## 7. Python files\n",
    "You can read and display the contents of a python file using the open function."
   ]
  },
  {
   "cell_type": "code",
   "execution_count": 178,
   "id": "e1cdc26d-9715-4aee-9bce-15d39382432c",
   "metadata": {
    "tags": []
   },
   "outputs": [
    {
     "name": "stdout",
     "output_type": "stream",
     "text": [
      "class MyStreamListener(tweepy.StreamListener):\n",
      "    def __init__(self, api=None):\n",
      "        super(MyStreamListener, self).__init__()\n",
      "        self.num_tweets = 0\n",
      "        self.file = open(\"tweets.txt\", \"w\")\n",
      "\n",
      "    def on_status(self, status):\n",
      "        tweet = status._json\n",
      "        self.file.write( json.dumps(tweet) + '\\n' )\n",
      "        self.num_tweets += 1\n",
      "        if self.num_tweets < 100:\n",
      "            return True\n",
      "        else:\n",
      "            return False\n",
      "        self.file.close()\n",
      "\n",
      "    def on_error(self, status):\n",
      "        print(status)\n"
     ]
    }
   ],
   "source": [
    "with open('datasets/importing-data/tweet_listener.py', 'r') as con:\n",
    "    tweet = con.read()\n",
    "\n",
    "print(tweet)"
   ]
  },
  {
   "cell_type": "code",
   "execution_count": 179,
   "id": "acfcdb21-3b07-4336-909a-ee61601e32b2",
   "metadata": {
    "tags": []
   },
   "outputs": [
    {
     "name": "stdout",
     "output_type": "stream",
     "text": [
      "import operator\n",
      "\n",
      "import numpy as np\n",
      "import pytest\n",
      "\n",
      "import pandas as pd\n",
      "import pandas._testing as tm\n",
      "from pandas.arrays import FloatingArray\n",
      "\n",
      "\n",
      "@pytest.fixture\n",
      "def data():\n",
      "    return pd.array(\n",
      "        [True, False] * 4 + [np.nan] + [True, False] * 44 + [np.nan] + [True, False],\n",
      "        dtype=\"boolean\"\n"
     ]
    }
   ],
   "source": [
    "with open('datasets/importing-data/test_arithmetic.py', 'r') as con:\n",
    "    doc = con.read()\n",
    "    \n",
    "print(doc[:300])"
   ]
  },
  {
   "cell_type": "markdown",
   "id": "f6605b03-0659-4422-aac8-6954c4312fce",
   "metadata": {},
   "source": [
    "## 8. SAS files"
   ]
  },
  {
   "cell_type": "code",
   "execution_count": 180,
   "id": "d3ed2648-001f-4986-9e2d-030630d6e309",
   "metadata": {
    "tags": []
   },
   "outputs": [],
   "source": [
    "# Import sas7bdat\n",
    "from sas7bdat import SAS7BDAT"
   ]
  },
  {
   "cell_type": "code",
   "execution_count": 181,
   "id": "8029a917-7917-4f07-bb7b-294296210af3",
   "metadata": {
    "tags": []
   },
   "outputs": [
    {
     "data": {
      "text/html": [
       "<div>\n",
       "<style scoped>\n",
       "    .dataframe tbody tr th:only-of-type {\n",
       "        vertical-align: middle;\n",
       "    }\n",
       "\n",
       "    .dataframe tbody tr th {\n",
       "        vertical-align: top;\n",
       "    }\n",
       "\n",
       "    .dataframe thead th {\n",
       "        text-align: right;\n",
       "    }\n",
       "</style>\n",
       "<table border=\"1\" class=\"dataframe\">\n",
       "  <thead>\n",
       "    <tr style=\"text-align: right;\">\n",
       "      <th></th>\n",
       "      <th>INC</th>\n",
       "      <th>CONS</th>\n",
       "      <th>DUR</th>\n",
       "    </tr>\n",
       "  </thead>\n",
       "  <tbody>\n",
       "    <tr>\n",
       "      <th>0</th>\n",
       "      <td>8369.0</td>\n",
       "      <td>7537.0</td>\n",
       "      <td>428.0</td>\n",
       "    </tr>\n",
       "    <tr>\n",
       "      <th>1</th>\n",
       "      <td>8436.0</td>\n",
       "      <td>7651.0</td>\n",
       "      <td>434.0</td>\n",
       "    </tr>\n",
       "    <tr>\n",
       "      <th>2</th>\n",
       "      <td>8567.0</td>\n",
       "      <td>7655.0</td>\n",
       "      <td>404.0</td>\n",
       "    </tr>\n",
       "    <tr>\n",
       "      <th>3</th>\n",
       "      <td>8692.0</td>\n",
       "      <td>7885.0</td>\n",
       "      <td>475.0</td>\n",
       "    </tr>\n",
       "    <tr>\n",
       "      <th>4</th>\n",
       "      <td>8775.0</td>\n",
       "      <td>7947.0</td>\n",
       "      <td>491.0</td>\n",
       "    </tr>\n",
       "    <tr>\n",
       "      <th>5</th>\n",
       "      <td>8865.0</td>\n",
       "      <td>7967.0</td>\n",
       "      <td>486.0</td>\n",
       "    </tr>\n",
       "    <tr>\n",
       "      <th>6</th>\n",
       "      <td>8794.0</td>\n",
       "      <td>7917.0</td>\n",
       "      <td>482.0</td>\n",
       "    </tr>\n",
       "  </tbody>\n",
       "</table>\n",
       "</div>"
      ],
      "text/plain": [
       "      INC    CONS    DUR\n",
       "0  8369.0  7537.0  428.0\n",
       "1  8436.0  7651.0  434.0\n",
       "2  8567.0  7655.0  404.0\n",
       "3  8692.0  7885.0  475.0\n",
       "4  8775.0  7947.0  491.0\n",
       "5  8865.0  7967.0  486.0\n",
       "6  8794.0  7917.0  482.0"
      ]
     },
     "execution_count": 181,
     "metadata": {},
     "output_type": "execute_result"
    }
   ],
   "source": [
    "# Opening the SAS file 'consumption.sas7bdat'\n",
    "consumption = SAS7BDAT('datasets/importing-data/consumption.sas7bdat')\n",
    "\n",
    "# Converting the SAS data to a DataFrame\n",
    "consumption_df = consumption.to_data_frame()\n",
    "\n",
    "consumption_df.head(7)"
   ]
  },
  {
   "cell_type": "markdown",
   "id": "f303049b-c9bb-42e0-a0d0-da11b58fa0da",
   "metadata": {},
   "source": [
    "## 9. SQL\n",
    "Python allows for the importation and querying of SQLite files."
   ]
  },
  {
   "cell_type": "code",
   "execution_count": 182,
   "id": "d2ba50aa-37e3-4afb-99f7-518ad1c8394a",
   "metadata": {
    "tags": []
   },
   "outputs": [
    {
     "data": {
      "text/plain": [
       "['Album',\n",
       " 'Artist',\n",
       " 'Customer',\n",
       " 'Employee',\n",
       " 'Genre',\n",
       " 'Invoice',\n",
       " 'InvoiceLine',\n",
       " 'MediaType',\n",
       " 'Playlist',\n",
       " 'PlaylistTrack',\n",
       " 'Track']"
      ]
     },
     "execution_count": 182,
     "metadata": {},
     "output_type": "execute_result"
    }
   ],
   "source": [
    "# Importing necessary modules from SQLAlchemy\n",
    "from sqlalchemy import create_engine, inspect, text\n",
    "\n",
    "# Creating an engine to connect to the SQLite database 'Chinook.sqlite'\n",
    "engine = create_engine('sqlite:///datasets/importing-data/Chinook.sqlite')\n",
    "\n",
    "# Inspecting the engine to get the table names in the database\n",
    "table_names = inspect(engine).get_table_names()\n",
    "table_names"
   ]
  },
  {
   "cell_type": "markdown",
   "id": "f1057c20-4a48-40e4-a8f2-e59ae188b990",
   "metadata": {},
   "source": [
    "The syntax below doesn't run in the new SQLAlchemy Version: 2.0.20. "
   ]
  },
  {
   "cell_type": "raw",
   "id": "0d4fd2b7-9e03-4e6b-a6fb-4d8a6d8226cd",
   "metadata": {},
   "source": [
    "# Executing an SQL query to select all columns from the 'album' table\n",
    "album = pd.read_sql_query(\"SELECT * FROM Album\", engine)\n",
    "\n",
    "# Displaying the first few rows of the 'album' DataFrame\n",
    "album.head(7)"
   ]
  },
  {
   "cell_type": "markdown",
   "id": "096cd056-c35d-4a28-884c-091d5e82b14d",
   "metadata": {},
   "source": [
    "The syntax above is modified to run in new SQLAlchemy Version: 2.0.20. "
   ]
  },
  {
   "cell_type": "code",
   "execution_count": 183,
   "id": "6178ab48-c3ab-4e7e-8910-24b20644723c",
   "metadata": {
    "tags": []
   },
   "outputs": [
    {
     "data": {
      "text/html": [
       "<div>\n",
       "<style scoped>\n",
       "    .dataframe tbody tr th:only-of-type {\n",
       "        vertical-align: middle;\n",
       "    }\n",
       "\n",
       "    .dataframe tbody tr th {\n",
       "        vertical-align: top;\n",
       "    }\n",
       "\n",
       "    .dataframe thead th {\n",
       "        text-align: right;\n",
       "    }\n",
       "</style>\n",
       "<table border=\"1\" class=\"dataframe\">\n",
       "  <thead>\n",
       "    <tr style=\"text-align: right;\">\n",
       "      <th></th>\n",
       "      <th>AlbumId</th>\n",
       "      <th>Title</th>\n",
       "      <th>ArtistId</th>\n",
       "    </tr>\n",
       "  </thead>\n",
       "  <tbody>\n",
       "    <tr>\n",
       "      <th>0</th>\n",
       "      <td>1</td>\n",
       "      <td>For Those About To Rock We Salute You</td>\n",
       "      <td>1</td>\n",
       "    </tr>\n",
       "    <tr>\n",
       "      <th>1</th>\n",
       "      <td>2</td>\n",
       "      <td>Balls to the Wall</td>\n",
       "      <td>2</td>\n",
       "    </tr>\n",
       "    <tr>\n",
       "      <th>2</th>\n",
       "      <td>3</td>\n",
       "      <td>Restless and Wild</td>\n",
       "      <td>2</td>\n",
       "    </tr>\n",
       "    <tr>\n",
       "      <th>3</th>\n",
       "      <td>4</td>\n",
       "      <td>Let There Be Rock</td>\n",
       "      <td>1</td>\n",
       "    </tr>\n",
       "    <tr>\n",
       "      <th>4</th>\n",
       "      <td>5</td>\n",
       "      <td>Big Ones</td>\n",
       "      <td>3</td>\n",
       "    </tr>\n",
       "    <tr>\n",
       "      <th>5</th>\n",
       "      <td>6</td>\n",
       "      <td>Jagged Little Pill</td>\n",
       "      <td>4</td>\n",
       "    </tr>\n",
       "    <tr>\n",
       "      <th>6</th>\n",
       "      <td>7</td>\n",
       "      <td>Facelift</td>\n",
       "      <td>5</td>\n",
       "    </tr>\n",
       "  </tbody>\n",
       "</table>\n",
       "</div>"
      ],
      "text/plain": [
       "   AlbumId                                  Title  ArtistId\n",
       "0        1  For Those About To Rock We Salute You         1\n",
       "1        2                      Balls to the Wall         2\n",
       "2        3                      Restless and Wild         2\n",
       "3        4                      Let There Be Rock         1\n",
       "4        5                               Big Ones         3\n",
       "5        6                     Jagged Little Pill         4\n",
       "6        7                               Facelift         5"
      ]
     },
     "execution_count": 183,
     "metadata": {},
     "output_type": "execute_result"
    }
   ],
   "source": [
    "# Executing an SQL query to select all columns from the 'album' table\n",
    "album = pd.read_sql_query(text(\"SELECT * FROM Album\"), engine.connect())\n",
    "\n",
    "# Displaying the first few rows of the 'album' DataFrame\n",
    "album.head(7)"
   ]
  },
  {
   "cell_type": "markdown",
   "id": "4e76e5b4-39e4-41e4-bf5c-c510b8f693c6",
   "metadata": {},
   "source": [
    "Retrieve all columns from the `artist` table in the connected database and load them into a Pandas DataFrame"
   ]
  },
  {
   "cell_type": "code",
   "execution_count": 184,
   "id": "62871001-1f98-4d3f-9900-5e52f3493ef7",
   "metadata": {
    "tags": []
   },
   "outputs": [
    {
     "data": {
      "text/html": [
       "<div>\n",
       "<style scoped>\n",
       "    .dataframe tbody tr th:only-of-type {\n",
       "        vertical-align: middle;\n",
       "    }\n",
       "\n",
       "    .dataframe tbody tr th {\n",
       "        vertical-align: top;\n",
       "    }\n",
       "\n",
       "    .dataframe thead th {\n",
       "        text-align: right;\n",
       "    }\n",
       "</style>\n",
       "<table border=\"1\" class=\"dataframe\">\n",
       "  <thead>\n",
       "    <tr style=\"text-align: right;\">\n",
       "      <th></th>\n",
       "      <th>ArtistId</th>\n",
       "      <th>Name</th>\n",
       "    </tr>\n",
       "  </thead>\n",
       "  <tbody>\n",
       "    <tr>\n",
       "      <th>0</th>\n",
       "      <td>1</td>\n",
       "      <td>AC/DC</td>\n",
       "    </tr>\n",
       "    <tr>\n",
       "      <th>1</th>\n",
       "      <td>2</td>\n",
       "      <td>Accept</td>\n",
       "    </tr>\n",
       "    <tr>\n",
       "      <th>2</th>\n",
       "      <td>3</td>\n",
       "      <td>Aerosmith</td>\n",
       "    </tr>\n",
       "    <tr>\n",
       "      <th>3</th>\n",
       "      <td>4</td>\n",
       "      <td>Alanis Morissette</td>\n",
       "    </tr>\n",
       "    <tr>\n",
       "      <th>4</th>\n",
       "      <td>5</td>\n",
       "      <td>Alice In Chains</td>\n",
       "    </tr>\n",
       "  </tbody>\n",
       "</table>\n",
       "</div>"
      ],
      "text/plain": [
       "   ArtistId               Name\n",
       "0         1              AC/DC\n",
       "1         2             Accept\n",
       "2         3          Aerosmith\n",
       "3         4  Alanis Morissette\n",
       "4         5    Alice In Chains"
      ]
     },
     "execution_count": 184,
     "metadata": {},
     "output_type": "execute_result"
    }
   ],
   "source": [
    "artist = pd.read_sql_query(text('SELECT * FROM artist'), engine.connect())\n",
    "artist.head()"
   ]
  },
  {
   "cell_type": "markdown",
   "id": "b9242dde-aed6-4ad0-ae3a-422e820561cc",
   "metadata": {},
   "source": [
    "Retrieve all columns from the `track` table."
   ]
  },
  {
   "cell_type": "code",
   "execution_count": 185,
   "id": "4022a481-3eeb-44a4-8b8a-eff9e1f9f929",
   "metadata": {
    "tags": []
   },
   "outputs": [
    {
     "data": {
      "text/html": [
       "<div>\n",
       "<style scoped>\n",
       "    .dataframe tbody tr th:only-of-type {\n",
       "        vertical-align: middle;\n",
       "    }\n",
       "\n",
       "    .dataframe tbody tr th {\n",
       "        vertical-align: top;\n",
       "    }\n",
       "\n",
       "    .dataframe thead th {\n",
       "        text-align: right;\n",
       "    }\n",
       "</style>\n",
       "<table border=\"1\" class=\"dataframe\">\n",
       "  <thead>\n",
       "    <tr style=\"text-align: right;\">\n",
       "      <th></th>\n",
       "      <th>TrackId</th>\n",
       "      <th>Name</th>\n",
       "      <th>AlbumId</th>\n",
       "      <th>MediaTypeId</th>\n",
       "      <th>GenreId</th>\n",
       "      <th>Composer</th>\n",
       "      <th>Milliseconds</th>\n",
       "      <th>Bytes</th>\n",
       "      <th>UnitPrice</th>\n",
       "    </tr>\n",
       "  </thead>\n",
       "  <tbody>\n",
       "    <tr>\n",
       "      <th>0</th>\n",
       "      <td>1</td>\n",
       "      <td>For Those About To Rock (We Salute You)</td>\n",
       "      <td>1</td>\n",
       "      <td>1</td>\n",
       "      <td>1</td>\n",
       "      <td>Angus Young, Malcolm Young, Brian Johnson</td>\n",
       "      <td>343719</td>\n",
       "      <td>11170334</td>\n",
       "      <td>0.99</td>\n",
       "    </tr>\n",
       "    <tr>\n",
       "      <th>1</th>\n",
       "      <td>2</td>\n",
       "      <td>Balls to the Wall</td>\n",
       "      <td>2</td>\n",
       "      <td>2</td>\n",
       "      <td>1</td>\n",
       "      <td>None</td>\n",
       "      <td>342562</td>\n",
       "      <td>5510424</td>\n",
       "      <td>0.99</td>\n",
       "    </tr>\n",
       "    <tr>\n",
       "      <th>2</th>\n",
       "      <td>3</td>\n",
       "      <td>Fast As a Shark</td>\n",
       "      <td>3</td>\n",
       "      <td>2</td>\n",
       "      <td>1</td>\n",
       "      <td>F. Baltes, S. Kaufman, U. Dirkscneider &amp; W. Ho...</td>\n",
       "      <td>230619</td>\n",
       "      <td>3990994</td>\n",
       "      <td>0.99</td>\n",
       "    </tr>\n",
       "    <tr>\n",
       "      <th>3</th>\n",
       "      <td>4</td>\n",
       "      <td>Restless and Wild</td>\n",
       "      <td>3</td>\n",
       "      <td>2</td>\n",
       "      <td>1</td>\n",
       "      <td>F. Baltes, R.A. Smith-Diesel, S. Kaufman, U. D...</td>\n",
       "      <td>252051</td>\n",
       "      <td>4331779</td>\n",
       "      <td>0.99</td>\n",
       "    </tr>\n",
       "    <tr>\n",
       "      <th>4</th>\n",
       "      <td>5</td>\n",
       "      <td>Princess of the Dawn</td>\n",
       "      <td>3</td>\n",
       "      <td>2</td>\n",
       "      <td>1</td>\n",
       "      <td>Deaffy &amp; R.A. Smith-Diesel</td>\n",
       "      <td>375418</td>\n",
       "      <td>6290521</td>\n",
       "      <td>0.99</td>\n",
       "    </tr>\n",
       "  </tbody>\n",
       "</table>\n",
       "</div>"
      ],
      "text/plain": [
       "   TrackId                                     Name  AlbumId  MediaTypeId  \\\n",
       "0        1  For Those About To Rock (We Salute You)        1            1   \n",
       "1        2                        Balls to the Wall        2            2   \n",
       "2        3                          Fast As a Shark        3            2   \n",
       "3        4                        Restless and Wild        3            2   \n",
       "4        5                     Princess of the Dawn        3            2   \n",
       "\n",
       "   GenreId                                           Composer  Milliseconds  \\\n",
       "0        1          Angus Young, Malcolm Young, Brian Johnson        343719   \n",
       "1        1                                               None        342562   \n",
       "2        1  F. Baltes, S. Kaufman, U. Dirkscneider & W. Ho...        230619   \n",
       "3        1  F. Baltes, R.A. Smith-Diesel, S. Kaufman, U. D...        252051   \n",
       "4        1                         Deaffy & R.A. Smith-Diesel        375418   \n",
       "\n",
       "      Bytes  UnitPrice  \n",
       "0  11170334       0.99  \n",
       "1   5510424       0.99  \n",
       "2   3990994       0.99  \n",
       "3   4331779       0.99  \n",
       "4   6290521       0.99  "
      ]
     },
     "execution_count": 185,
     "metadata": {},
     "output_type": "execute_result"
    }
   ],
   "source": [
    "tracks = pd.read_sql_query(text('SELECT * FROM Track'), engine.connect())\n",
    "tracks.head()"
   ]
  },
  {
   "cell_type": "code",
   "execution_count": 186,
   "id": "ab0e29d5-e7e8-4b61-9f95-4768ef4ea4eb",
   "metadata": {
    "tags": []
   },
   "outputs": [
    {
     "data": {
      "text/html": [
       "<div>\n",
       "<style scoped>\n",
       "    .dataframe tbody tr th:only-of-type {\n",
       "        vertical-align: middle;\n",
       "    }\n",
       "\n",
       "    .dataframe tbody tr th {\n",
       "        vertical-align: top;\n",
       "    }\n",
       "\n",
       "    .dataframe thead th {\n",
       "        text-align: right;\n",
       "    }\n",
       "</style>\n",
       "<table border=\"1\" class=\"dataframe\">\n",
       "  <thead>\n",
       "    <tr style=\"text-align: right;\">\n",
       "      <th></th>\n",
       "      <th>GenreId</th>\n",
       "      <th>Name</th>\n",
       "    </tr>\n",
       "  </thead>\n",
       "  <tbody>\n",
       "    <tr>\n",
       "      <th>0</th>\n",
       "      <td>1</td>\n",
       "      <td>Rock</td>\n",
       "    </tr>\n",
       "    <tr>\n",
       "      <th>1</th>\n",
       "      <td>2</td>\n",
       "      <td>Jazz</td>\n",
       "    </tr>\n",
       "    <tr>\n",
       "      <th>2</th>\n",
       "      <td>3</td>\n",
       "      <td>Metal</td>\n",
       "    </tr>\n",
       "    <tr>\n",
       "      <th>3</th>\n",
       "      <td>4</td>\n",
       "      <td>Alternative &amp; Punk</td>\n",
       "    </tr>\n",
       "    <tr>\n",
       "      <th>4</th>\n",
       "      <td>5</td>\n",
       "      <td>Rock And Roll</td>\n",
       "    </tr>\n",
       "  </tbody>\n",
       "</table>\n",
       "</div>"
      ],
      "text/plain": [
       "   GenreId                Name\n",
       "0        1                Rock\n",
       "1        2                Jazz\n",
       "2        3               Metal\n",
       "3        4  Alternative & Punk\n",
       "4        5       Rock And Roll"
      ]
     },
     "execution_count": 186,
     "metadata": {},
     "output_type": "execute_result"
    }
   ],
   "source": [
    "genre = pd.read_sql_query(text('SELECT * FROM Genre'), engine.connect())\n",
    "genre.head()"
   ]
  },
  {
   "cell_type": "markdown",
   "id": "f7135d05-fc1b-4e92-9f88-f17a79906a6d",
   "metadata": {},
   "source": [
    "Retrieve information from the `track` table and use unions to join tables and retrieve more data."
   ]
  },
  {
   "cell_type": "code",
   "execution_count": 187,
   "id": "5b3bfbe5-638b-40b7-ab49-7174efa92ce8",
   "metadata": {
    "tags": []
   },
   "outputs": [
    {
     "data": {
      "text/html": [
       "<div>\n",
       "<style scoped>\n",
       "    .dataframe tbody tr th:only-of-type {\n",
       "        vertical-align: middle;\n",
       "    }\n",
       "\n",
       "    .dataframe tbody tr th {\n",
       "        vertical-align: top;\n",
       "    }\n",
       "\n",
       "    .dataframe thead th {\n",
       "        text-align: right;\n",
       "    }\n",
       "</style>\n",
       "<table border=\"1\" class=\"dataframe\">\n",
       "  <thead>\n",
       "    <tr style=\"text-align: right;\">\n",
       "      <th></th>\n",
       "      <th>track</th>\n",
       "      <th>artist</th>\n",
       "      <th>genre</th>\n",
       "      <th>album</th>\n",
       "    </tr>\n",
       "  </thead>\n",
       "  <tbody>\n",
       "    <tr>\n",
       "      <th>0</th>\n",
       "      <td>For Those About To Rock (We Salute You)</td>\n",
       "      <td>AC/DC</td>\n",
       "      <td>Rock</td>\n",
       "      <td>For Those About To Rock We Salute You</td>\n",
       "    </tr>\n",
       "    <tr>\n",
       "      <th>1</th>\n",
       "      <td>Put The Finger On You</td>\n",
       "      <td>AC/DC</td>\n",
       "      <td>Rock</td>\n",
       "      <td>For Those About To Rock We Salute You</td>\n",
       "    </tr>\n",
       "    <tr>\n",
       "      <th>2</th>\n",
       "      <td>Let's Get It Up</td>\n",
       "      <td>AC/DC</td>\n",
       "      <td>Rock</td>\n",
       "      <td>For Those About To Rock We Salute You</td>\n",
       "    </tr>\n",
       "    <tr>\n",
       "      <th>3</th>\n",
       "      <td>Inject The Venom</td>\n",
       "      <td>AC/DC</td>\n",
       "      <td>Rock</td>\n",
       "      <td>For Those About To Rock We Salute You</td>\n",
       "    </tr>\n",
       "    <tr>\n",
       "      <th>4</th>\n",
       "      <td>Snowballed</td>\n",
       "      <td>AC/DC</td>\n",
       "      <td>Rock</td>\n",
       "      <td>For Those About To Rock We Salute You</td>\n",
       "    </tr>\n",
       "    <tr>\n",
       "      <th>5</th>\n",
       "      <td>Evil Walks</td>\n",
       "      <td>AC/DC</td>\n",
       "      <td>Rock</td>\n",
       "      <td>For Those About To Rock We Salute You</td>\n",
       "    </tr>\n",
       "    <tr>\n",
       "      <th>6</th>\n",
       "      <td>C.O.D.</td>\n",
       "      <td>AC/DC</td>\n",
       "      <td>Rock</td>\n",
       "      <td>For Those About To Rock We Salute You</td>\n",
       "    </tr>\n",
       "    <tr>\n",
       "      <th>7</th>\n",
       "      <td>Breaking The Rules</td>\n",
       "      <td>AC/DC</td>\n",
       "      <td>Rock</td>\n",
       "      <td>For Those About To Rock We Salute You</td>\n",
       "    </tr>\n",
       "    <tr>\n",
       "      <th>8</th>\n",
       "      <td>Night Of The Long Knives</td>\n",
       "      <td>AC/DC</td>\n",
       "      <td>Rock</td>\n",
       "      <td>For Those About To Rock We Salute You</td>\n",
       "    </tr>\n",
       "    <tr>\n",
       "      <th>9</th>\n",
       "      <td>Spellbound</td>\n",
       "      <td>AC/DC</td>\n",
       "      <td>Rock</td>\n",
       "      <td>For Those About To Rock We Salute You</td>\n",
       "    </tr>\n",
       "    <tr>\n",
       "      <th>10</th>\n",
       "      <td>Go Down</td>\n",
       "      <td>AC/DC</td>\n",
       "      <td>Rock</td>\n",
       "      <td>Let There Be Rock</td>\n",
       "    </tr>\n",
       "    <tr>\n",
       "      <th>11</th>\n",
       "      <td>Dog Eat Dog</td>\n",
       "      <td>AC/DC</td>\n",
       "      <td>Rock</td>\n",
       "      <td>Let There Be Rock</td>\n",
       "    </tr>\n",
       "    <tr>\n",
       "      <th>12</th>\n",
       "      <td>Let There Be Rock</td>\n",
       "      <td>AC/DC</td>\n",
       "      <td>Rock</td>\n",
       "      <td>Let There Be Rock</td>\n",
       "    </tr>\n",
       "    <tr>\n",
       "      <th>13</th>\n",
       "      <td>Bad Boy Boogie</td>\n",
       "      <td>AC/DC</td>\n",
       "      <td>Rock</td>\n",
       "      <td>Let There Be Rock</td>\n",
       "    </tr>\n",
       "    <tr>\n",
       "      <th>14</th>\n",
       "      <td>Problem Child</td>\n",
       "      <td>AC/DC</td>\n",
       "      <td>Rock</td>\n",
       "      <td>Let There Be Rock</td>\n",
       "    </tr>\n",
       "    <tr>\n",
       "      <th>15</th>\n",
       "      <td>Overdose</td>\n",
       "      <td>AC/DC</td>\n",
       "      <td>Rock</td>\n",
       "      <td>Let There Be Rock</td>\n",
       "    </tr>\n",
       "    <tr>\n",
       "      <th>16</th>\n",
       "      <td>Hell Ain't A Bad Place To Be</td>\n",
       "      <td>AC/DC</td>\n",
       "      <td>Rock</td>\n",
       "      <td>Let There Be Rock</td>\n",
       "    </tr>\n",
       "    <tr>\n",
       "      <th>17</th>\n",
       "      <td>Whole Lotta Rosie</td>\n",
       "      <td>AC/DC</td>\n",
       "      <td>Rock</td>\n",
       "      <td>Let There Be Rock</td>\n",
       "    </tr>\n",
       "    <tr>\n",
       "      <th>18</th>\n",
       "      <td>Fanfare for the Common Man</td>\n",
       "      <td>Aaron Copland &amp; London Symphony Orchestra</td>\n",
       "      <td>Classical</td>\n",
       "      <td>A Copland Celebration, Vol. I</td>\n",
       "    </tr>\n",
       "    <tr>\n",
       "      <th>19</th>\n",
       "      <td>OAM's Blues</td>\n",
       "      <td>Aaron Goldberg</td>\n",
       "      <td>Jazz</td>\n",
       "      <td>Worlds</td>\n",
       "    </tr>\n",
       "    <tr>\n",
       "      <th>20</th>\n",
       "      <td>Solomon HWV 67: The Arrival of the Queen of Sheba</td>\n",
       "      <td>Academy of St. Martin in the Fields &amp; Sir Nevi...</td>\n",
       "      <td>Classical</td>\n",
       "      <td>The World of Classical Favourites</td>\n",
       "    </tr>\n",
       "    <tr>\n",
       "      <th>21</th>\n",
       "      <td>Fantasia On Greensleeves</td>\n",
       "      <td>Academy of St. Martin in the Fields &amp; Sir Nevi...</td>\n",
       "      <td>Classical</td>\n",
       "      <td>The World of Classical Favourites</td>\n",
       "    </tr>\n",
       "    <tr>\n",
       "      <th>22</th>\n",
       "      <td>\"Eine Kleine Nachtmusik\" Serenade In G, K. 525...</td>\n",
       "      <td>Academy of St. Martin in the Fields Chamber En...</td>\n",
       "      <td>Classical</td>\n",
       "      <td>Sir Neville Marriner: A Celebration</td>\n",
       "    </tr>\n",
       "    <tr>\n",
       "      <th>23</th>\n",
       "      <td>Requiem, Op.48: 4. Pie Jesu</td>\n",
       "      <td>Academy of St. Martin in the Fields, John Birc...</td>\n",
       "      <td>Classical</td>\n",
       "      <td>Fauré: Requiem, Ravel: Pavane &amp; Others</td>\n",
       "    </tr>\n",
       "    <tr>\n",
       "      <th>24</th>\n",
       "      <td>Suite No. 3 in D, BWV 1068: III. Gavotte I &amp; II</td>\n",
       "      <td>Academy of St. Martin in the Fields, Sir Nevil...</td>\n",
       "      <td>Classical</td>\n",
       "      <td>Bach: Orchestral Suites Nos. 1 - 4</td>\n",
       "    </tr>\n",
       "    <tr>\n",
       "      <th>25</th>\n",
       "      <td>Balls to the Wall</td>\n",
       "      <td>Accept</td>\n",
       "      <td>Rock</td>\n",
       "      <td>Balls to the Wall</td>\n",
       "    </tr>\n",
       "    <tr>\n",
       "      <th>26</th>\n",
       "      <td>Fast As a Shark</td>\n",
       "      <td>Accept</td>\n",
       "      <td>Rock</td>\n",
       "      <td>Restless and Wild</td>\n",
       "    </tr>\n",
       "    <tr>\n",
       "      <th>27</th>\n",
       "      <td>Restless and Wild</td>\n",
       "      <td>Accept</td>\n",
       "      <td>Rock</td>\n",
       "      <td>Restless and Wild</td>\n",
       "    </tr>\n",
       "    <tr>\n",
       "      <th>28</th>\n",
       "      <td>Princess of the Dawn</td>\n",
       "      <td>Accept</td>\n",
       "      <td>Rock</td>\n",
       "      <td>Restless and Wild</td>\n",
       "    </tr>\n",
       "    <tr>\n",
       "      <th>29</th>\n",
       "      <td>Symphony No. 3 Op. 36 for Orchestra and Sopran...</td>\n",
       "      <td>Adrian Leaper &amp; Doreen de Feis</td>\n",
       "      <td>Classical</td>\n",
       "      <td>Górecki: Symphony No. 3</td>\n",
       "    </tr>\n",
       "  </tbody>\n",
       "</table>\n",
       "</div>"
      ],
      "text/plain": [
       "                                                track  \\\n",
       "0             For Those About To Rock (We Salute You)   \n",
       "1                               Put The Finger On You   \n",
       "2                                     Let's Get It Up   \n",
       "3                                    Inject The Venom   \n",
       "4                                          Snowballed   \n",
       "5                                          Evil Walks   \n",
       "6                                              C.O.D.   \n",
       "7                                  Breaking The Rules   \n",
       "8                            Night Of The Long Knives   \n",
       "9                                          Spellbound   \n",
       "10                                            Go Down   \n",
       "11                                        Dog Eat Dog   \n",
       "12                                  Let There Be Rock   \n",
       "13                                     Bad Boy Boogie   \n",
       "14                                      Problem Child   \n",
       "15                                           Overdose   \n",
       "16                       Hell Ain't A Bad Place To Be   \n",
       "17                                  Whole Lotta Rosie   \n",
       "18                         Fanfare for the Common Man   \n",
       "19                                        OAM's Blues   \n",
       "20  Solomon HWV 67: The Arrival of the Queen of Sheba   \n",
       "21                           Fantasia On Greensleeves   \n",
       "22  \"Eine Kleine Nachtmusik\" Serenade In G, K. 525...   \n",
       "23                        Requiem, Op.48: 4. Pie Jesu   \n",
       "24    Suite No. 3 in D, BWV 1068: III. Gavotte I & II   \n",
       "25                                  Balls to the Wall   \n",
       "26                                    Fast As a Shark   \n",
       "27                                  Restless and Wild   \n",
       "28                               Princess of the Dawn   \n",
       "29  Symphony No. 3 Op. 36 for Orchestra and Sopran...   \n",
       "\n",
       "                                               artist      genre  \\\n",
       "0                                               AC/DC       Rock   \n",
       "1                                               AC/DC       Rock   \n",
       "2                                               AC/DC       Rock   \n",
       "3                                               AC/DC       Rock   \n",
       "4                                               AC/DC       Rock   \n",
       "5                                               AC/DC       Rock   \n",
       "6                                               AC/DC       Rock   \n",
       "7                                               AC/DC       Rock   \n",
       "8                                               AC/DC       Rock   \n",
       "9                                               AC/DC       Rock   \n",
       "10                                              AC/DC       Rock   \n",
       "11                                              AC/DC       Rock   \n",
       "12                                              AC/DC       Rock   \n",
       "13                                              AC/DC       Rock   \n",
       "14                                              AC/DC       Rock   \n",
       "15                                              AC/DC       Rock   \n",
       "16                                              AC/DC       Rock   \n",
       "17                                              AC/DC       Rock   \n",
       "18          Aaron Copland & London Symphony Orchestra  Classical   \n",
       "19                                     Aaron Goldberg       Jazz   \n",
       "20  Academy of St. Martin in the Fields & Sir Nevi...  Classical   \n",
       "21  Academy of St. Martin in the Fields & Sir Nevi...  Classical   \n",
       "22  Academy of St. Martin in the Fields Chamber En...  Classical   \n",
       "23  Academy of St. Martin in the Fields, John Birc...  Classical   \n",
       "24  Academy of St. Martin in the Fields, Sir Nevil...  Classical   \n",
       "25                                             Accept       Rock   \n",
       "26                                             Accept       Rock   \n",
       "27                                             Accept       Rock   \n",
       "28                                             Accept       Rock   \n",
       "29                     Adrian Leaper & Doreen de Feis  Classical   \n",
       "\n",
       "                                     album  \n",
       "0    For Those About To Rock We Salute You  \n",
       "1    For Those About To Rock We Salute You  \n",
       "2    For Those About To Rock We Salute You  \n",
       "3    For Those About To Rock We Salute You  \n",
       "4    For Those About To Rock We Salute You  \n",
       "5    For Those About To Rock We Salute You  \n",
       "6    For Those About To Rock We Salute You  \n",
       "7    For Those About To Rock We Salute You  \n",
       "8    For Those About To Rock We Salute You  \n",
       "9    For Those About To Rock We Salute You  \n",
       "10                       Let There Be Rock  \n",
       "11                       Let There Be Rock  \n",
       "12                       Let There Be Rock  \n",
       "13                       Let There Be Rock  \n",
       "14                       Let There Be Rock  \n",
       "15                       Let There Be Rock  \n",
       "16                       Let There Be Rock  \n",
       "17                       Let There Be Rock  \n",
       "18           A Copland Celebration, Vol. I  \n",
       "19                                  Worlds  \n",
       "20       The World of Classical Favourites  \n",
       "21       The World of Classical Favourites  \n",
       "22     Sir Neville Marriner: A Celebration  \n",
       "23  Fauré: Requiem, Ravel: Pavane & Others  \n",
       "24      Bach: Orchestral Suites Nos. 1 - 4  \n",
       "25                       Balls to the Wall  \n",
       "26                       Restless and Wild  \n",
       "27                       Restless and Wild  \n",
       "28                       Restless and Wild  \n",
       "29                 Górecki: Symphony No. 3  "
      ]
     },
     "execution_count": 187,
     "metadata": {},
     "output_type": "execute_result"
    }
   ],
   "source": [
    "union = pd.read_sql_query(text(\n",
    "    \"\"\"\n",
    "    SELECT Track.NAME as track, artist.Name as artist, Genre.Name as genre, album.title as album FROM Track \n",
    "    INNER JOIN Album on track.AlbumId = Album.AlbumId \n",
    "    INNER JOIN Artist on Album.ArtistId = Artist.ArtistId \n",
    "    INNER JOIN Genre on Track.GenreId = Genre.GenreID  \n",
    "    ORDER BY artist \n",
    "    LIMIT 30\"\"\"), engine.connect())\n",
    "union"
   ]
  },
  {
   "cell_type": "markdown",
   "id": "350dcb0d-d23f-4b81-ac2f-e83a5ce70767",
   "metadata": {
    "tags": []
   },
   "source": [
    "## 10. Pickle\n",
    "### 10.1. Using pandas"
   ]
  },
  {
   "cell_type": "code",
   "execution_count": 188,
   "id": "82f4f966-fd59-487e-abb5-94267f5257c6",
   "metadata": {
    "tags": []
   },
   "outputs": [
    {
     "data": {
      "text/html": [
       "<div>\n",
       "<style scoped>\n",
       "    .dataframe tbody tr th:only-of-type {\n",
       "        vertical-align: middle;\n",
       "    }\n",
       "\n",
       "    .dataframe tbody tr th {\n",
       "        vertical-align: top;\n",
       "    }\n",
       "\n",
       "    .dataframe thead th {\n",
       "        text-align: right;\n",
       "    }\n",
       "</style>\n",
       "<table border=\"1\" class=\"dataframe\">\n",
       "  <thead>\n",
       "    <tr style=\"text-align: right;\">\n",
       "      <th></th>\n",
       "      <th>date</th>\n",
       "      <th>type</th>\n",
       "      <th>year</th>\n",
       "      <th>avg_price</th>\n",
       "      <th>size</th>\n",
       "      <th>nb_sold</th>\n",
       "    </tr>\n",
       "  </thead>\n",
       "  <tbody>\n",
       "    <tr>\n",
       "      <th>0</th>\n",
       "      <td>2015-12-27</td>\n",
       "      <td>conventional</td>\n",
       "      <td>2015</td>\n",
       "      <td>0.95</td>\n",
       "      <td>small</td>\n",
       "      <td>9626901.09</td>\n",
       "    </tr>\n",
       "    <tr>\n",
       "      <th>1</th>\n",
       "      <td>2015-12-20</td>\n",
       "      <td>conventional</td>\n",
       "      <td>2015</td>\n",
       "      <td>0.98</td>\n",
       "      <td>small</td>\n",
       "      <td>8710021.76</td>\n",
       "    </tr>\n",
       "    <tr>\n",
       "      <th>2</th>\n",
       "      <td>2015-12-13</td>\n",
       "      <td>conventional</td>\n",
       "      <td>2015</td>\n",
       "      <td>0.93</td>\n",
       "      <td>small</td>\n",
       "      <td>9855053.66</td>\n",
       "    </tr>\n",
       "    <tr>\n",
       "      <th>3</th>\n",
       "      <td>2015-12-06</td>\n",
       "      <td>conventional</td>\n",
       "      <td>2015</td>\n",
       "      <td>0.89</td>\n",
       "      <td>small</td>\n",
       "      <td>9405464.36</td>\n",
       "    </tr>\n",
       "    <tr>\n",
       "      <th>4</th>\n",
       "      <td>2015-11-29</td>\n",
       "      <td>conventional</td>\n",
       "      <td>2015</td>\n",
       "      <td>0.99</td>\n",
       "      <td>small</td>\n",
       "      <td>8094803.56</td>\n",
       "    </tr>\n",
       "  </tbody>\n",
       "</table>\n",
       "</div>"
      ],
      "text/plain": [
       "         date          type  year  avg_price   size     nb_sold\n",
       "0  2015-12-27  conventional  2015       0.95  small  9626901.09\n",
       "1  2015-12-20  conventional  2015       0.98  small  8710021.76\n",
       "2  2015-12-13  conventional  2015       0.93  small  9855053.66\n",
       "3  2015-12-06  conventional  2015       0.89  small  9405464.36\n",
       "4  2015-11-29  conventional  2015       0.99  small  8094803.56"
      ]
     },
     "execution_count": 188,
     "metadata": {},
     "output_type": "execute_result"
    }
   ],
   "source": [
    "avocado = pd.read_pickle('datasets/importing-data/avoplotto.pkl')\n",
    "avocado.head()"
   ]
  },
  {
   "cell_type": "code",
   "execution_count": 189,
   "id": "8eea8017-d96d-4e39-8cdb-275c4e0ff62e",
   "metadata": {
    "tags": []
   },
   "outputs": [
    {
     "data": {
      "text/html": [
       "<div>\n",
       "<style scoped>\n",
       "    .dataframe tbody tr th:only-of-type {\n",
       "        vertical-align: middle;\n",
       "    }\n",
       "\n",
       "    .dataframe tbody tr th {\n",
       "        vertical-align: top;\n",
       "    }\n",
       "\n",
       "    .dataframe thead th {\n",
       "        text-align: right;\n",
       "    }\n",
       "</style>\n",
       "<table border=\"1\" class=\"dataframe\">\n",
       "  <thead>\n",
       "    <tr style=\"text-align: right;\">\n",
       "      <th></th>\n",
       "      <th>ward</th>\n",
       "      <th>alderman</th>\n",
       "      <th>address</th>\n",
       "      <th>zip</th>\n",
       "    </tr>\n",
       "  </thead>\n",
       "  <tbody>\n",
       "    <tr>\n",
       "      <th>0</th>\n",
       "      <td>1</td>\n",
       "      <td>Proco \"Joe\" Moreno</td>\n",
       "      <td>2058 NORTH WESTERN AVENUE</td>\n",
       "      <td>60647</td>\n",
       "    </tr>\n",
       "    <tr>\n",
       "      <th>1</th>\n",
       "      <td>2</td>\n",
       "      <td>Brian Hopkins</td>\n",
       "      <td>1400 NORTH  ASHLAND AVENUE</td>\n",
       "      <td>60622</td>\n",
       "    </tr>\n",
       "    <tr>\n",
       "      <th>2</th>\n",
       "      <td>3</td>\n",
       "      <td>Pat Dowell</td>\n",
       "      <td>5046 SOUTH STATE STREET</td>\n",
       "      <td>60609</td>\n",
       "    </tr>\n",
       "    <tr>\n",
       "      <th>3</th>\n",
       "      <td>4</td>\n",
       "      <td>William D. Burns</td>\n",
       "      <td>435 EAST 35TH STREET, 1ST FLOOR</td>\n",
       "      <td>60616</td>\n",
       "    </tr>\n",
       "    <tr>\n",
       "      <th>4</th>\n",
       "      <td>5</td>\n",
       "      <td>Leslie A. Hairston</td>\n",
       "      <td>2325 EAST 71ST STREET</td>\n",
       "      <td>60649</td>\n",
       "    </tr>\n",
       "  </tbody>\n",
       "</table>\n",
       "</div>"
      ],
      "text/plain": [
       "  ward            alderman                          address    zip\n",
       "0    1  Proco \"Joe\" Moreno        2058 NORTH WESTERN AVENUE  60647\n",
       "1    2       Brian Hopkins       1400 NORTH  ASHLAND AVENUE  60622\n",
       "2    3          Pat Dowell          5046 SOUTH STATE STREET  60609\n",
       "3    4    William D. Burns  435 EAST 35TH STREET, 1ST FLOOR  60616\n",
       "4    5  Leslie A. Hairston            2325 EAST 71ST STREET  60649"
      ]
     },
     "execution_count": 189,
     "metadata": {},
     "output_type": "execute_result"
    }
   ],
   "source": [
    "wards = pd.read_pickle('datasets/joining-data/chicago_ward.p')\n",
    "wards.head()"
   ]
  },
  {
   "cell_type": "markdown",
   "id": "4a38f32b-b61d-4a71-a034-551ec62ed8a6",
   "metadata": {},
   "source": [
    "### 10.2. Open function"
   ]
  },
  {
   "cell_type": "code",
   "execution_count": 190,
   "id": "21157e28-d592-4521-969f-38747f44ce9d",
   "metadata": {
    "tags": []
   },
   "outputs": [
    {
     "data": {
      "text/html": [
       "<div>\n",
       "<style scoped>\n",
       "    .dataframe tbody tr th:only-of-type {\n",
       "        vertical-align: middle;\n",
       "    }\n",
       "\n",
       "    .dataframe tbody tr th {\n",
       "        vertical-align: top;\n",
       "    }\n",
       "\n",
       "    .dataframe thead th {\n",
       "        text-align: right;\n",
       "    }\n",
       "</style>\n",
       "<table border=\"1\" class=\"dataframe\">\n",
       "  <thead>\n",
       "    <tr style=\"text-align: right;\">\n",
       "      <th></th>\n",
       "      <th>date</th>\n",
       "      <th>type</th>\n",
       "      <th>year</th>\n",
       "      <th>avg_price</th>\n",
       "      <th>size</th>\n",
       "      <th>nb_sold</th>\n",
       "    </tr>\n",
       "  </thead>\n",
       "  <tbody>\n",
       "    <tr>\n",
       "      <th>0</th>\n",
       "      <td>2015-12-27</td>\n",
       "      <td>conventional</td>\n",
       "      <td>2015</td>\n",
       "      <td>0.95</td>\n",
       "      <td>small</td>\n",
       "      <td>9626901.09</td>\n",
       "    </tr>\n",
       "    <tr>\n",
       "      <th>1</th>\n",
       "      <td>2015-12-20</td>\n",
       "      <td>conventional</td>\n",
       "      <td>2015</td>\n",
       "      <td>0.98</td>\n",
       "      <td>small</td>\n",
       "      <td>8710021.76</td>\n",
       "    </tr>\n",
       "    <tr>\n",
       "      <th>2</th>\n",
       "      <td>2015-12-13</td>\n",
       "      <td>conventional</td>\n",
       "      <td>2015</td>\n",
       "      <td>0.93</td>\n",
       "      <td>small</td>\n",
       "      <td>9855053.66</td>\n",
       "    </tr>\n",
       "    <tr>\n",
       "      <th>3</th>\n",
       "      <td>2015-12-06</td>\n",
       "      <td>conventional</td>\n",
       "      <td>2015</td>\n",
       "      <td>0.89</td>\n",
       "      <td>small</td>\n",
       "      <td>9405464.36</td>\n",
       "    </tr>\n",
       "    <tr>\n",
       "      <th>4</th>\n",
       "      <td>2015-11-29</td>\n",
       "      <td>conventional</td>\n",
       "      <td>2015</td>\n",
       "      <td>0.99</td>\n",
       "      <td>small</td>\n",
       "      <td>8094803.56</td>\n",
       "    </tr>\n",
       "  </tbody>\n",
       "</table>\n",
       "</div>"
      ],
      "text/plain": [
       "         date          type  year  avg_price   size     nb_sold\n",
       "0  2015-12-27  conventional  2015       0.95  small  9626901.09\n",
       "1  2015-12-20  conventional  2015       0.98  small  8710021.76\n",
       "2  2015-12-13  conventional  2015       0.93  small  9855053.66\n",
       "3  2015-12-06  conventional  2015       0.89  small  9405464.36\n",
       "4  2015-11-29  conventional  2015       0.99  small  8094803.56"
      ]
     },
     "execution_count": 190,
     "metadata": {},
     "output_type": "execute_result"
    }
   ],
   "source": [
    "import pickle\n",
    "\n",
    "with open('datasets/importing-data/avoplotto.pkl', 'rb') as con:\n",
    "    avocado2 = pickle.load(con)\n",
    "\n",
    "avocado2.head()"
   ]
  },
  {
   "cell_type": "code",
   "execution_count": 191,
   "id": "131bb8a4-7c7c-46af-ae76-a095bd3783f5",
   "metadata": {
    "tags": []
   },
   "outputs": [
    {
     "data": {
      "text/html": [
       "<div>\n",
       "<style scoped>\n",
       "    .dataframe tbody tr th:only-of-type {\n",
       "        vertical-align: middle;\n",
       "    }\n",
       "\n",
       "    .dataframe tbody tr th {\n",
       "        vertical-align: top;\n",
       "    }\n",
       "\n",
       "    .dataframe thead th {\n",
       "        text-align: right;\n",
       "    }\n",
       "</style>\n",
       "<table border=\"1\" class=\"dataframe\">\n",
       "  <thead>\n",
       "    <tr style=\"text-align: right;\">\n",
       "      <th></th>\n",
       "      <th>ward</th>\n",
       "      <th>alderman</th>\n",
       "      <th>address</th>\n",
       "      <th>zip</th>\n",
       "    </tr>\n",
       "  </thead>\n",
       "  <tbody>\n",
       "    <tr>\n",
       "      <th>0</th>\n",
       "      <td>1</td>\n",
       "      <td>Proco \"Joe\" Moreno</td>\n",
       "      <td>2058 NORTH WESTERN AVENUE</td>\n",
       "      <td>60647</td>\n",
       "    </tr>\n",
       "    <tr>\n",
       "      <th>1</th>\n",
       "      <td>2</td>\n",
       "      <td>Brian Hopkins</td>\n",
       "      <td>1400 NORTH  ASHLAND AVENUE</td>\n",
       "      <td>60622</td>\n",
       "    </tr>\n",
       "    <tr>\n",
       "      <th>2</th>\n",
       "      <td>3</td>\n",
       "      <td>Pat Dowell</td>\n",
       "      <td>5046 SOUTH STATE STREET</td>\n",
       "      <td>60609</td>\n",
       "    </tr>\n",
       "    <tr>\n",
       "      <th>3</th>\n",
       "      <td>4</td>\n",
       "      <td>William D. Burns</td>\n",
       "      <td>435 EAST 35TH STREET, 1ST FLOOR</td>\n",
       "      <td>60616</td>\n",
       "    </tr>\n",
       "    <tr>\n",
       "      <th>4</th>\n",
       "      <td>5</td>\n",
       "      <td>Leslie A. Hairston</td>\n",
       "      <td>2325 EAST 71ST STREET</td>\n",
       "      <td>60649</td>\n",
       "    </tr>\n",
       "  </tbody>\n",
       "</table>\n",
       "</div>"
      ],
      "text/plain": [
       "  ward            alderman                          address    zip\n",
       "0    1  Proco \"Joe\" Moreno        2058 NORTH WESTERN AVENUE  60647\n",
       "1    2       Brian Hopkins       1400 NORTH  ASHLAND AVENUE  60622\n",
       "2    3          Pat Dowell          5046 SOUTH STATE STREET  60609\n",
       "3    4    William D. Burns  435 EAST 35TH STREET, 1ST FLOOR  60616\n",
       "4    5  Leslie A. Hairston            2325 EAST 71ST STREET  60649"
      ]
     },
     "execution_count": 191,
     "metadata": {},
     "output_type": "execute_result"
    }
   ],
   "source": [
    "with open('datasets/joining-data/chicago_ward.p', 'rb') as con:\n",
    "    ward = pickle.load(con)\n",
    "ward.head()"
   ]
  },
  {
   "cell_type": "markdown",
   "id": "da8feed5-6dbf-4426-93de-a4aeefa68855",
   "metadata": {
    "tags": []
   },
   "source": [
    "### 10.3. HDF5\n",
    "HDF5 is a general purpose library and file format for storing scientific data. HDF5 can store two primary types of objects: datasets and groups. "
   ]
  },
  {
   "cell_type": "code",
   "execution_count": 192,
   "id": "30635a73-9934-4aff-b382-9365360f20cb",
   "metadata": {
    "tags": []
   },
   "outputs": [
    {
     "data": {
      "text/plain": [
       "<KeysViewHDF5 ['meta', 'quality', 'strain']>"
      ]
     },
     "execution_count": 192,
     "metadata": {},
     "output_type": "execute_result"
    }
   ],
   "source": [
    "# Importing the necessary module\n",
    "import h5py\n",
    "\n",
    "# Opening an HDF5 file in read mode\n",
    "file = h5py.File('datasets/importing-data/L-L1_LOSC_4_V1-1126259446-32.hdf5', 'r')\n",
    "\n",
    "# Getting the keys (group names) in the HDF5 file\n",
    "file.keys()"
   ]
  },
  {
   "cell_type": "markdown",
   "id": "f92bdd61-f6be-45c5-aae1-472dec2cdd12",
   "metadata": {
    "tags": []
   },
   "source": [
    "To access a specific dataset named `Strain` within the group `strain` in the HDF5 file and print the contents:"
   ]
  },
  {
   "cell_type": "code",
   "execution_count": 193,
   "id": "fc9c230c-8caf-44f1-8da4-fa00c78adcb1",
   "metadata": {
    "tags": []
   },
   "outputs": [
    {
     "data": {
      "text/plain": [
       "array([-1.77955839e-18, -1.76552067e-18, -1.71049117e-18, ...,\n",
       "       -1.76375155e-18, -1.72364846e-18, -1.71969299e-18])"
      ]
     },
     "execution_count": 193,
     "metadata": {},
     "output_type": "execute_result"
    }
   ],
   "source": [
    "# Accessing the dataset 'Strain' within the group 'strain' in the HDF5 file\n",
    "strain_data = file['strain']['Strain']\n",
    "\n",
    "# Converting the dataset 'Strain' to a NumPy array\n",
    "numpy_strain_data = np.array(file['strain']['Strain'])\n",
    "numpy_strain_data"
   ]
  }
 ],
 "metadata": {
  "kernelspec": {
   "display_name": "Python 3 (ipykernel)",
   "language": "python",
   "name": "python3"
  },
  "language_info": {
   "codemirror_mode": {
    "name": "ipython",
    "version": 3
   },
   "file_extension": ".py",
   "mimetype": "text/x-python",
   "name": "python",
   "nbconvert_exporter": "python",
   "pygments_lexer": "ipython3",
   "version": "3.11.4"
  },
  "toc-autonumbering": false,
  "toc-showtags": true
 },
 "nbformat": 4,
 "nbformat_minor": 5
}
